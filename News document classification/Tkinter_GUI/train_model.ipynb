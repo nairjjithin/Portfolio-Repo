{
 "cells": [
  {
   "cell_type": "markdown",
   "metadata": {},
   "source": [
    "### Train Test Preparation"
   ]
  },
  {
   "cell_type": "markdown",
   "metadata": {},
   "source": [
    "####  Import Packages"
   ]
  },
  {
   "cell_type": "code",
   "execution_count": 1,
   "metadata": {
    "ExecuteTime": {
     "end_time": "2020-05-15T16:02:43.784631Z",
     "start_time": "2020-05-15T16:02:42.129419Z"
    }
   },
   "outputs": [],
   "source": [
    "import os\n",
    "import glob\n",
    "import pandas as pd\n",
    "import numpy as np\n",
    "import matplotlib.pyplot as plt\n",
    "import warnings\n",
    "warnings.filterwarnings('ignore')\n",
    "import seaborn as sns"
   ]
  },
  {
   "cell_type": "markdown",
   "metadata": {},
   "source": [
    "#### Load Data"
   ]
  },
  {
   "cell_type": "code",
   "execution_count": 2,
   "metadata": {
    "ExecuteTime": {
     "end_time": "2020-05-15T16:02:43.793600Z",
     "start_time": "2020-05-15T16:02:43.787595Z"
    }
   },
   "outputs": [],
   "source": [
    "bbc=r\"E:\\AI\\projects\\bbc classification\\bbc-fulltext\\bbc\"\n",
    "categories=os.listdir(bbc)\n",
    "categories.remove(categories[3])"
   ]
  },
  {
   "cell_type": "code",
   "execution_count": 3,
   "metadata": {
    "ExecuteTime": {
     "end_time": "2020-05-15T16:02:52.015495Z",
     "start_time": "2020-05-15T16:02:43.799603Z"
    }
   },
   "outputs": [],
   "source": [
    "data=[]\n",
    "for cat in categories:\n",
    "    for file in glob.glob(r\"E:\\AI\\projects\\bbc classification\\bbc-fulltext\\bbc\\\\\"+cat+\"\\\\*.TXT\"):\n",
    "        f=open(file)\n",
    "        content=f.read()\n",
    "        filename=file.split(\"\\\\\")[-1]\n",
    "        id=cat+filename.split('.')[0]\n",
    "        data.append([cat,id,content])        "
   ]
  },
  {
   "cell_type": "markdown",
   "metadata": {
    "ExecuteTime": {
     "end_time": "2020-05-05T10:22:12.465091Z",
     "start_time": "2020-05-05T10:22:12.461090Z"
    }
   },
   "source": [
    "##### Base Data Creation"
   ]
  },
  {
   "cell_type": "code",
   "execution_count": 4,
   "metadata": {
    "ExecuteTime": {
     "end_time": "2020-05-15T16:02:52.858038Z",
     "start_time": "2020-05-15T16:02:52.018452Z"
    }
   },
   "outputs": [],
   "source": [
    "data_array=np.array(data)\n",
    "bbc_data=pd.DataFrame(data_array)"
   ]
  },
  {
   "cell_type": "markdown",
   "metadata": {},
   "source": [
    "#### Renaming Features and Traget"
   ]
  },
  {
   "cell_type": "code",
   "execution_count": 5,
   "metadata": {
    "ExecuteTime": {
     "end_time": "2020-05-15T16:02:53.642609Z",
     "start_time": "2020-05-15T16:02:52.862041Z"
    }
   },
   "outputs": [],
   "source": [
    "bbc_data.rename({0:'category',1:'id',2:'content'},axis=1,inplace=True)"
   ]
  },
  {
   "cell_type": "markdown",
   "metadata": {},
   "source": [
    "##### Labelling categorical values"
   ]
  },
  {
   "cell_type": "code",
   "execution_count": 6,
   "metadata": {
    "ExecuteTime": {
     "end_time": "2020-05-15T16:02:53.860785Z",
     "start_time": "2020-05-15T16:02:53.645598Z"
    }
   },
   "outputs": [],
   "source": [
    "bbc_data['category_id']=bbc_data['category'].factorize()[0]"
   ]
  },
  {
   "cell_type": "markdown",
   "metadata": {},
   "source": [
    "#### Basic Feature Extraction"
   ]
  },
  {
   "cell_type": "markdown",
   "metadata": {},
   "source": [
    "##### Extracting title"
   ]
  },
  {
   "cell_type": "code",
   "execution_count": 7,
   "metadata": {
    "ExecuteTime": {
     "end_time": "2020-05-15T16:02:54.152958Z",
     "start_time": "2020-05-15T16:02:53.866762Z"
    }
   },
   "outputs": [],
   "source": [
    "text = bbc_data[\"content\"].str.split(\"\\n\", n = 1, expand = True) \n",
    "\n",
    "bbc_data[\"title\"] =  text[0]\n",
    "bbc_data['content'] = text[1]"
   ]
  },
  {
   "cell_type": "markdown",
   "metadata": {},
   "source": [
    "#### Text Preprocessing"
   ]
  },
  {
   "cell_type": "code",
   "execution_count": 8,
   "metadata": {
    "ExecuteTime": {
     "end_time": "2020-05-15T16:02:54.910526Z",
     "start_time": "2020-05-15T16:02:54.157961Z"
    }
   },
   "outputs": [],
   "source": [
    "#Creating a stopword list\n",
    "# https://gist.github.com/sebleier/554280\n",
    "# we are removing the words from the stop words list: 'no', 'nor', 'not'\n",
    "stopwords= ['i', 'me', 'my', 'myself', 'we', 'our', 'ours', 'ourselves', 'you', \"you're\", \"you've\",\\\n",
    "            \"you'll\", \"you'd\", 'your', 'yours', 'yourself', 'yourselves', 'he', 'him', 'his', 'himself', \\\n",
    "            'she', \"she's\", 'her', 'hers', 'herself', 'it', \"it's\", 'its', 'itself', 'they', 'them', 'their',\\\n",
    "            'theirs', 'themselves', 'what', 'which', 'who', 'whom', 'this', 'that', \"that'll\", 'these', 'those', \\\n",
    "            'am', 'is', 'are', 'was', 'were', 'be', 'been', 'being', 'have', 'has', 'had', 'having', 'do', 'does', \\\n",
    "            'did', 'doing', 'a', 'an', 'the', 'and', 'but', 'if', 'or', 'because', 'as', 'until', 'while', 'of', \\\n",
    "            'at', 'by', 'for', 'with', 'about', 'against', 'between', 'into', 'through', 'during', 'before', 'after',\\\n",
    "            'above', 'below', 'to', 'from', 'up', 'down', 'in', 'out', 'on', 'off', 'over', 'under', 'again', 'further',\\\n",
    "            'then', 'once', 'here', 'there', 'when', 'where', 'why', 'how', 'all', 'any', 'both', 'each', 'few', 'more',\\\n",
    "            'most', 'other', 'some', 'such', 'only', 'own', 'same', 'so', 'than', 'too', 'very', \\\n",
    "            's', 't', 'can', 'will', 'just', 'don', \"don't\", 'should', \"should've\", 'now', 'd', 'll', 'm', 'o', 're', \\\n",
    "            've', 'y', 'ain', 'aren', \"aren't\", 'couldn', \"couldn't\", 'didn', \"didn't\", 'doesn', \"doesn't\", 'hadn',\\\n",
    "            \"hadn't\", 'hasn', \"hasn't\", 'haven', \"haven't\", 'isn', \"isn't\", 'ma', 'mightn', \"mightn't\", 'mustn',\\\n",
    "            \"mustn't\", 'needn', \"needn't\", 'shan', \"shan't\", 'shouldn', \"shouldn't\", 'wasn', \"wasn't\", 'weren', \"weren't\", \\\n",
    "            'won', \"won't\", 'wouldn', \"wouldn't\",\"january\",\"february\",\"march\",\"april\",\"may\",\"june\",\"july\",\"august\",\"septemer\",\\\n",
    "             \"october\",\"november\",\"december\",\"today\",\"tomorrow\",\"yesterday\"]"
   ]
  },
  {
   "cell_type": "code",
   "execution_count": 9,
   "metadata": {
    "ExecuteTime": {
     "end_time": "2020-05-15T16:02:55.100632Z",
     "start_time": "2020-05-15T16:02:54.915499Z"
    }
   },
   "outputs": [],
   "source": [
    "import re\n",
    "import unicodedata\n",
    "\n",
    "def clean_text(text):\n",
    "    #Treat accented characters\n",
    "    text=unicodedata.normalize('NFKD',text).encode('ascii','ignore').decode('utf-8','ignore')    \n",
    "    \n",
    "    # Decontracting Words\n",
    "    text = re.sub(r\"won't\", \"will not\", text)\n",
    "    text = re.sub(r\"can\\'t\", \"can not\", text)\n",
    "    text = re.sub(r\"n\\'t\", \" not\", text)\n",
    "    text = re.sub(r\"\\'re\", \" are\", text)\n",
    "    text = re.sub(r\"\\'s\", \" is\", text)\n",
    "    text = re.sub(r\"\\'d\", \" would\", text)\n",
    "    text = re.sub(r\"\\'ll\", \" will\", text)\n",
    "    text = re.sub(r\"\\'t\", \" not\", text)\n",
    "    text = re.sub(r\"\\'ve\", \" have\", text)\n",
    "    text = re.sub(r\"\\'m\", \" am\", text)\n",
    "    text=re.sub(r\"They'd\", \"they would\", text)\n",
    "    text=re.sub(r\"don't\", \"do not\", text)\n",
    "    \n",
    "    #remove html tags\n",
    "    pattern=re.compile(r'<.*?>')\n",
    "    text=re.sub(pattern,' ',text)\n",
    "    pattern=re.compile(r'http\\?s\\S+')\n",
    "    text=re.sub(pattern,' ',text)\n",
    "    \n",
    "    # remove Special characters\n",
    "    text = re.sub('[^A-Za-z0-9]+', ' ', text)\n",
    "    text = text.lower()\n",
    "\n",
    "    # remove line breaks \\r \\n \\t remove from string \n",
    "    text = text.replace('\\\\r', ' ')\n",
    "    text = text.replace('\\\\\"', ' ')\n",
    "    text = text.replace('\\\\t', ' ')\n",
    "    text = text.replace('\\\\n', ' ')\n",
    "\n",
    "    # remove stopwords\n",
    "    text = ' '.join(word.lower() for word in text.split() if word not in stopwords)\n",
    "\n",
    "    return text"
   ]
  },
  {
   "cell_type": "markdown",
   "metadata": {},
   "source": [
    "##### title"
   ]
  },
  {
   "cell_type": "code",
   "execution_count": 10,
   "metadata": {
    "ExecuteTime": {
     "end_time": "2020-05-15T16:02:55.710064Z",
     "start_time": "2020-05-15T16:02:55.103634Z"
    }
   },
   "outputs": [
    {
     "name": "stderr",
     "output_type": "stream",
     "text": [
      "100%|███████████████████████████████████| 2225/2225 [00:00<00:00, 10846.02it/s]\n"
     ]
    }
   ],
   "source": [
    "from tqdm import tqdm\n",
    "clean_titles = []\n",
    "for title in tqdm(bbc_data['title'].values):\n",
    "    clean_title = clean_text(title)\n",
    "    clean_titles.append(clean_title)\n",
    "bbc_data['title']=clean_titles"
   ]
  },
  {
   "cell_type": "markdown",
   "metadata": {
    "ExecuteTime": {
     "end_time": "2020-05-06T01:35:13.733068Z",
     "start_time": "2020-05-06T01:35:13.729051Z"
    }
   },
   "source": [
    "##### content"
   ]
  },
  {
   "cell_type": "code",
   "execution_count": 11,
   "metadata": {
    "ExecuteTime": {
     "end_time": "2020-05-15T16:03:00.462440Z",
     "start_time": "2020-05-15T16:02:55.714067Z"
    }
   },
   "outputs": [
    {
     "name": "stderr",
     "output_type": "stream",
     "text": [
      "100%|█████████████████████████████████████| 2225/2225 [00:04<00:00, 471.86it/s]\n"
     ]
    }
   ],
   "source": [
    "from tqdm import tqdm\n",
    "clean_contents = []\n",
    "for content in tqdm(bbc_data['content'].values):\n",
    "    clean_content = clean_text(content)\n",
    "    clean_contents.append(clean_content)\n",
    "bbc_data['content']=clean_contents"
   ]
  },
  {
   "cell_type": "markdown",
   "metadata": {},
   "source": [
    "#### Traget-Features Split"
   ]
  },
  {
   "cell_type": "code",
   "execution_count": 12,
   "metadata": {
    "ExecuteTime": {
     "end_time": "2020-05-15T16:03:00.523484Z",
     "start_time": "2020-05-15T16:03:00.464441Z"
    }
   },
   "outputs": [],
   "source": [
    "X=bbc_data.iloc[:,bbc_data.columns!='category_id']\n",
    "X.drop(['id','category'],axis=1,inplace=True)\n",
    "Y=bbc_data['category_id']"
   ]
  },
  {
   "cell_type": "markdown",
   "metadata": {},
   "source": [
    "#### Train-Test Split"
   ]
  },
  {
   "cell_type": "code",
   "execution_count": 13,
   "metadata": {
    "ExecuteTime": {
     "end_time": "2020-05-15T16:03:00.864727Z",
     "start_time": "2020-05-15T16:03:00.525488Z"
    }
   },
   "outputs": [],
   "source": [
    "from sklearn.model_selection import train_test_split\n",
    "xtrain,xtest,ytrain,ytest=train_test_split(X,Y,test_size=0.30,stratify=Y)"
   ]
  },
  {
   "cell_type": "markdown",
   "metadata": {},
   "source": [
    "### Vectorization"
   ]
  },
  {
   "cell_type": "markdown",
   "metadata": {},
   "source": [
    "#### title"
   ]
  },
  {
   "cell_type": "code",
   "execution_count": 14,
   "metadata": {
    "ExecuteTime": {
     "end_time": "2020-05-15T16:03:01.039851Z",
     "start_time": "2020-05-15T16:03:00.868729Z"
    }
   },
   "outputs": [],
   "source": [
    "from sklearn.feature_extraction.text import TfidfVectorizer\n",
    "tf=TfidfVectorizer(ngram_range=(1,2),min_df=3)\n",
    "tf.fit(xtrain['title'].values)\n",
    "title_trtf=tf.transform(xtrain['title'].values)\n",
    "title_tetf=tf.transform(xtest['title'].values)"
   ]
  },
  {
   "cell_type": "markdown",
   "metadata": {},
   "source": [
    "#### content"
   ]
  },
  {
   "cell_type": "code",
   "execution_count": 15,
   "metadata": {
    "ExecuteTime": {
     "end_time": "2020-05-15T16:03:05.724192Z",
     "start_time": "2020-05-15T16:03:01.043861Z"
    }
   },
   "outputs": [],
   "source": [
    "tf=TfidfVectorizer(ngram_range=(1,2),min_df=5)\n",
    "tf.fit(xtrain['content'].values)\n",
    "content_trtf=tf.transform(xtrain['content'].values)\n",
    "content_tetf=tf.transform(xtest['content'].values)"
   ]
  },
  {
   "cell_type": "markdown",
   "metadata": {},
   "source": [
    "### Preparing Data Matrix"
   ]
  },
  {
   "cell_type": "code",
   "execution_count": 16,
   "metadata": {
    "ExecuteTime": {
     "end_time": "2020-05-15T16:03:05.774230Z",
     "start_time": "2020-05-15T16:03:05.726182Z"
    }
   },
   "outputs": [],
   "source": [
    "from scipy.sparse import  hstack\n",
    "train=hstack((title_trtf,content_trtf)).tocsr()\n",
    "test=hstack((title_tetf,content_tetf)).tocsr()"
   ]
  },
  {
   "cell_type": "markdown",
   "metadata": {},
   "source": [
    "### Base Model"
   ]
  },
  {
   "cell_type": "code",
   "execution_count": 17,
   "metadata": {
    "ExecuteTime": {
     "end_time": "2020-05-15T16:03:06.103450Z",
     "start_time": "2020-05-15T16:03:05.777216Z"
    }
   },
   "outputs": [],
   "source": [
    "from sklearn.feature_selection import SelectKBest, chi2\n",
    "kbest=SelectKBest(chi2, k=6000)\n",
    "kbest.fit(train, ytrain)\n",
    "train=kbest.transform(train)"
   ]
  },
  {
   "cell_type": "code",
   "execution_count": 18,
   "metadata": {
    "ExecuteTime": {
     "end_time": "2020-05-15T16:03:06.904017Z",
     "start_time": "2020-05-15T16:03:06.105449Z"
    }
   },
   "outputs": [
    {
     "data": {
      "text/plain": [
       "OneVsRestClassifier(estimator=LogisticRegression(C=1.0, class_weight=None,\n",
       "                                                 dual=False, fit_intercept=True,\n",
       "                                                 intercept_scaling=1,\n",
       "                                                 l1_ratio=None, max_iter=100,\n",
       "                                                 multi_class='auto',\n",
       "                                                 n_jobs=None, penalty='l2',\n",
       "                                                 random_state=None,\n",
       "                                                 solver='lbfgs', tol=0.0001,\n",
       "                                                 verbose=0, warm_start=False),\n",
       "                    n_jobs=None)"
      ]
     },
     "execution_count": 18,
     "metadata": {},
     "output_type": "execute_result"
    }
   ],
   "source": [
    "from sklearn.linear_model import LogisticRegression\n",
    "from sklearn.multiclass import OneVsRestClassifier\n",
    "lgr=LogisticRegression()\n",
    "ovr=OneVsRestClassifier(lgr)\n",
    "ovr.fit(train,ytrain)"
   ]
  },
  {
   "cell_type": "code",
   "execution_count": 19,
   "metadata": {
    "ExecuteTime": {
     "end_time": "2020-05-15T16:03:06.941043Z",
     "start_time": "2020-05-15T16:03:06.908020Z"
    }
   },
   "outputs": [],
   "source": [
    "import pickle\n",
    "with open('pickle_train','wb') as f:\n",
    "    pickle.dump([ovr,xtrain,train,ytrain,kbest],f)"
   ]
  }
 ],
 "metadata": {
  "kernelspec": {
   "display_name": "Python 3",
   "language": "python",
   "name": "python3"
  },
  "language_info": {
   "codemirror_mode": {
    "name": "ipython",
    "version": 3
   },
   "file_extension": ".py",
   "mimetype": "text/x-python",
   "name": "python",
   "nbconvert_exporter": "python",
   "pygments_lexer": "ipython3",
   "version": "3.7.3"
  },
  "toc": {
   "base_numbering": 1,
   "nav_menu": {},
   "number_sections": true,
   "sideBar": true,
   "skip_h1_title": false,
   "title_cell": "Table of Contents",
   "title_sidebar": "Contents",
   "toc_cell": false,
   "toc_position": {},
   "toc_section_display": true,
   "toc_window_display": true
  }
 },
 "nbformat": 4,
 "nbformat_minor": 2
}
