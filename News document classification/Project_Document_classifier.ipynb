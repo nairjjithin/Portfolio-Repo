{
 "cells": [
  {
   "cell_type": "markdown",
   "metadata": {},
   "source": [
    "## Business Problem"
   ]
  },
  {
   "cell_type": "markdown",
   "metadata": {},
   "source": [
    "### Description"
   ]
  },
  {
   "cell_type": "markdown",
   "metadata": {},
   "source": [
    "Text documents are one of the richest sources of data for businesses: whether in the shape of customer support tickets, emails, technical documents, user reviews or news articles, they all contain valuable information that can be used to automate slow manual processes, better understand users, or find valuable insights. However, traditional algorithms struggle at processing these unstructured documents, and this is where machine learning comes to the rescue!\n",
    "\n",
    "We’ll use a public dataset from the BBC comprised of 2225 articles, each labeled under one of 5 categories."
   ]
  },
  {
   "attachments": {
    "Automatic%20Document%20classification%20machine%20learning.png": {
     "image/png": "[encoded data removed]"
    }
   },
   "cell_type": "markdown",
   "metadata": {},
   "source": [
    "![Automatic%20Document%20classification%20machine%20learning.png](attachment:Automatic%20Document%20classification%20machine%20learning.png)"
   ]
  },
  {
   "cell_type": "markdown",
   "metadata": {
    "ExecuteTime": {
     "end_time": "2020-05-05T09:20:32.893948Z",
     "start_time": "2020-05-05T09:20:32.890945Z"
    }
   },
   "source": [
    "###### Problem Statement"
   ]
  },
  {
   "cell_type": "markdown",
   "metadata": {},
   "source": [
    "- We are tasked with predicting the category of a news article using machine learning models.\n",
    "- This could be useful to instantly predict category of an article ,for which it is not mentioned.\n",
    "  Helpful in reducing manual task."
   ]
  },
  {
   "cell_type": "markdown",
   "metadata": {},
   "source": [
    "### Sources or Useful Links"
   ]
  },
  {
   "cell_type": "markdown",
   "metadata": {},
   "source": [
    "- Source1: http://mlg.ucd.ie/datasets/bbc.html - Train and Validation data set.\n",
    "- Source2: https://inshorts.com/ - Evaluation data set.(Collected through WebScrapping)"
   ]
  },
  {
   "cell_type": "markdown",
   "metadata": {},
   "source": [
    "### Real World/Business objectives and Constraints"
   ]
  },
  {
   "cell_type": "markdown",
   "metadata": {
    "ExecuteTime": {
     "end_time": "2020-05-05T09:36:32.558686Z",
     "start_time": "2020-05-05T09:36:32.553682Z"
    }
   },
   "source": [
    "- Cost of misclassification can be high.\n",
    "- Interpretability is partially important"
   ]
  },
  {
   "cell_type": "markdown",
   "metadata": {},
   "source": [
    "## Machine Learning Problem"
   ]
  },
  {
   "cell_type": "markdown",
   "metadata": {},
   "source": [
    "### Data Overview"
   ]
  },
  {
   "cell_type": "markdown",
   "metadata": {
    "ExecuteTime": {
     "end_time": "2020-05-05T09:44:41.929330Z",
     "start_time": "2020-05-05T09:44:41.923328Z"
    }
   },
   "source": [
    "- Consists of 2225 documents from the BBC news website corresponding to stories in five topical areas from 2004-2005.\n",
    "- Class Labels: 5 (business, entertainment, politics, sport, tech).\n",
    "- Size of bbc file:4.80MB.\n",
    "- Scrapped data from https://inshorts.com/ for evaluation dataset.\n",
    "- inshorts dataset contains 25 articles of 5 (business, entertainment, politics, sport, tech)."
   ]
  },
  {
   "cell_type": "markdown",
   "metadata": {},
   "source": [
    "#### Example Data point"
   ]
  },
  {
   "cell_type": "markdown",
   "metadata": {},
   "source": [
    "Ad sales boost Time Warner profit\n",
    "\n",
    "Quarterly profits at US media giant TimeWarner jumped 76% to $1.13bn (£600m) for the three months to December, from $639m year-earlier.\n",
    "\n",
    "The firm, which is now one of the biggest investors in Google, benefited from sales of high-speed internet connections and higher advert sales. TimeWarner said fourth quarter sales rose 2% to $11.1bn from $10.9bn. Its profits were buoyed by one-off gains which offset a profit dip at Warner Bros, and less users for AOL.\n",
    "\n",
    "Time Warner said on Friday that it now owns 8% of search-engine Google. But its own internet business, AOL, had has mixed fortunes. It lost 464,000 subscribers in the fourth quarter profits were lower than in the preceding three quarters. However, the company said AOL's underlying profit before exceptional items rose 8% on the back of stronger internet advertising revenues. It hopes to increase subscribers by offering the online service free to TimeWarner internet customers and will try to sign up AOL's existing customers for high-speed broadband. TimeWarner also has to restate 2000 and 2003 results following a probe by the US Securities Exchange Commission (SEC), which is close to concluding.\n",
    "\n",
    "Time Warner's fourth quarter profits were slightly better than analysts' expectations. But its film division saw profits slump 27% to $284m, helped by box-office flops Alexander and Catwoman, a sharp contrast to year-earlier, when the third and final film in the Lord of the Rings trilogy boosted results. For the full-year, TimeWarner posted a profit of $3.36bn, up 27% from its 2003 performance, while revenues grew 6.4% to $42.09bn. \"Our financial performance was strong, meeting or exceeding all of our full-year objectives and greatly enhancing our flexibility,\" chairman and chief executive Richard Parsons said. For 2005, TimeWarner is projecting operating earnings growth of around 5%, and also expects higher revenue and wider profit margins.\n",
    "\n",
    "TimeWarner is to restate its accounts as part of efforts to resolve an inquiry into AOL by US market regulators. It has already offered to pay $300m to settle charges, in a deal that is under review by the SEC. The company said it was unable to estimate the amount it needed to set aside for legal reserves, which it previously set at $500m. It intends to adjust the way it accounts for a deal with German music publisher Bertelsmann's purchase of a stake in AOL Europe, which it had reported as advertising revenue. It will now book the sale of its stake in AOL Europe as a loss on the value of that stake.\n"
   ]
  },
  {
   "cell_type": "markdown",
   "metadata": {},
   "source": [
    "### Mapping Real World problem to Machine Learning problem"
   ]
  },
  {
   "cell_type": "markdown",
   "metadata": {},
   "source": [
    "- Multiclass classification problem.For a given article we need to predict its caetgory among five classes.\n",
    "- Train the model on BBC data.The model should be able to categorize article from any news source."
   ]
  },
  {
   "cell_type": "markdown",
   "metadata": {},
   "source": [
    "### Metrics"
   ]
  },
  {
   "cell_type": "markdown",
   "metadata": {
    "ExecuteTime": {
     "end_time": "2020-05-05T09:57:00.344894Z",
     "start_time": "2020-05-05T09:57:00.338890Z"
    }
   },
   "source": [
    "- Multiclass Confusion matrix- Macro avg F1score.\n",
    "- Macro avg F1score=2*Pr_macro⋅Re_macro/(Pr_macro+Re_macro)\n",
    "- If F1macro has a large value, this indicates that a classifier performs well for each individual class. \n",
    "  The macro-average is therefore more suitable for data with an imbalanced class distribution."
   ]
  },
  {
   "cell_type": "markdown",
   "metadata": {},
   "source": [
    "### Train Test Preparation"
   ]
  },
  {
   "cell_type": "markdown",
   "metadata": {},
   "source": [
    "####  Import Packages"
   ]
  },
  {
   "cell_type": "code",
   "execution_count": 1,
   "metadata": {
    "ExecuteTime": {
     "end_time": "2020-05-15T15:46:33.315216Z",
     "start_time": "2020-05-15T15:46:31.369797Z"
    }
   },
   "outputs": [],
   "source": [
    "import os\n",
    "import glob\n",
    "import pandas as pd\n",
    "import numpy as np\n",
    "import matplotlib.pyplot as plt\n",
    "import warnings\n",
    "warnings.filterwarnings('ignore')\n",
    "import seaborn as sns"
   ]
  },
  {
   "cell_type": "markdown",
   "metadata": {},
   "source": [
    "#### Load Data"
   ]
  },
  {
   "cell_type": "code",
   "execution_count": null,
   "metadata": {
    "ExecuteTime": {
     "end_time": "2020-05-15T15:46:33.342199Z",
     "start_time": "2020-05-15T15:46:33.318185Z"
    }
   },
   "outputs": [],
   "source": [
    "bbc=r\"C:\\Users\\DELL\\Desktop\\A6\\news_classification\\bbc\"\n",
    "categories=os.listdir(bbc)\n",
    "categories"
   ]
  },
  {
   "cell_type": "code",
   "execution_count": 3,
   "metadata": {
    "ExecuteTime": {
     "end_time": "2020-05-15T15:46:33.522329Z",
     "start_time": "2020-05-15T15:46:33.347203Z"
    }
   },
   "outputs": [
    {
     "data": {
      "text/plain": [
       "['business', 'entertainment', 'politics', 'sport', 'tech']"
      ]
     },
     "execution_count": 3,
     "metadata": {},
     "output_type": "execute_result"
    }
   ],
   "source": [
    "categories.remove(categories[3])\n",
    "categories"
   ]
  },
  {
   "cell_type": "code",
   "execution_count": 4,
   "metadata": {
    "ExecuteTime": {
     "end_time": "2020-05-15T15:46:55.676102Z",
     "start_time": "2020-05-15T15:46:33.527332Z"
    }
   },
   "outputs": [],
   "source": [
    "data=[]\n",
    "for cat in categories:\n",
    "    for file in glob.glob(r\"C:\\Users\\DELL\\Desktop\\A6\\news_classification\\bbc\\\\\"+cat+\"\\\\*.TXT\"):\n",
    "        f=open(file)\n",
    "        content=f.read()\n",
    "        filename=file.split(\"\\\\\")[-1]\n",
    "        id=cat+filename.split('.')[0]\n",
    "        data.append([cat,id,content])        "
   ]
  },
  {
   "cell_type": "markdown",
   "metadata": {},
   "source": [
    "**Observations:**"
   ]
  },
  {
   "cell_type": "markdown",
   "metadata": {},
   "source": [
    "- There are news articles from 4differrent categories in data set.\n",
    "- Categories are business,entertainment,politics,sport,tech."
   ]
  },
  {
   "cell_type": "markdown",
   "metadata": {
    "ExecuteTime": {
     "end_time": "2020-05-05T10:22:12.465091Z",
     "start_time": "2020-05-05T10:22:12.461090Z"
    }
   },
   "source": [
    "##### Base Data Creation"
   ]
  },
  {
   "cell_type": "code",
   "execution_count": 5,
   "metadata": {
    "ExecuteTime": {
     "end_time": "2020-05-15T15:46:56.577705Z",
     "start_time": "2020-05-15T15:46:55.678068Z"
    }
   },
   "outputs": [
    {
     "data": {
      "text/html": [
       "<div>\n",
       "<style scoped>\n",
       "    .dataframe tbody tr th:only-of-type {\n",
       "        vertical-align: middle;\n",
       "    }\n",
       "\n",
       "    .dataframe tbody tr th {\n",
       "        vertical-align: top;\n",
       "    }\n",
       "\n",
       "    .dataframe thead th {\n",
       "        text-align: right;\n",
       "    }\n",
       "</style>\n",
       "<table border=\"1\" class=\"dataframe\">\n",
       "  <thead>\n",
       "    <tr style=\"text-align: right;\">\n",
       "      <th></th>\n",
       "      <th>0</th>\n",
       "      <th>1</th>\n",
       "      <th>2</th>\n",
       "    </tr>\n",
       "  </thead>\n",
       "  <tbody>\n",
       "    <tr>\n",
       "      <th>0</th>\n",
       "      <td>business</td>\n",
       "      <td>business001</td>\n",
       "      <td>Ad sales boost Time Warner profit\\n\\nQuarterly...</td>\n",
       "    </tr>\n",
       "    <tr>\n",
       "      <th>1</th>\n",
       "      <td>business</td>\n",
       "      <td>business002</td>\n",
       "      <td>Dollar gains on Greenspan speech\\n\\nThe dollar...</td>\n",
       "    </tr>\n",
       "    <tr>\n",
       "      <th>2</th>\n",
       "      <td>business</td>\n",
       "      <td>business003</td>\n",
       "      <td>Yukos unit buyer faces loan claim\\n\\nThe owner...</td>\n",
       "    </tr>\n",
       "    <tr>\n",
       "      <th>3</th>\n",
       "      <td>business</td>\n",
       "      <td>business004</td>\n",
       "      <td>High fuel prices hit BA's profits\\n\\nBritish A...</td>\n",
       "    </tr>\n",
       "    <tr>\n",
       "      <th>4</th>\n",
       "      <td>business</td>\n",
       "      <td>business005</td>\n",
       "      <td>Pernod takeover talk lifts Domecq\\n\\nShares in...</td>\n",
       "    </tr>\n",
       "  </tbody>\n",
       "</table>\n",
       "</div>"
      ],
      "text/plain": [
       "          0            1                                                  2\n",
       "0  business  business001  Ad sales boost Time Warner profit\\n\\nQuarterly...\n",
       "1  business  business002  Dollar gains on Greenspan speech\\n\\nThe dollar...\n",
       "2  business  business003  Yukos unit buyer faces loan claim\\n\\nThe owner...\n",
       "3  business  business004  High fuel prices hit BA's profits\\n\\nBritish A...\n",
       "4  business  business005  Pernod takeover talk lifts Domecq\\n\\nShares in..."
      ]
     },
     "execution_count": 5,
     "metadata": {},
     "output_type": "execute_result"
    }
   ],
   "source": [
    "data_array=np.array(data)\n",
    "bbc_data=pd.DataFrame(data_array)\n",
    "bbc_data.head()"
   ]
  },
  {
   "cell_type": "markdown",
   "metadata": {},
   "source": [
    "#### Renaming Features and Target"
   ]
  },
  {
   "cell_type": "code",
   "execution_count": 6,
   "metadata": {
    "ExecuteTime": {
     "end_time": "2020-05-15T15:46:56.691785Z",
     "start_time": "2020-05-15T15:46:56.580707Z"
    }
   },
   "outputs": [
    {
     "data": {
      "text/html": [
       "<div>\n",
       "<style scoped>\n",
       "    .dataframe tbody tr th:only-of-type {\n",
       "        vertical-align: middle;\n",
       "    }\n",
       "\n",
       "    .dataframe tbody tr th {\n",
       "        vertical-align: top;\n",
       "    }\n",
       "\n",
       "    .dataframe thead th {\n",
       "        text-align: right;\n",
       "    }\n",
       "</style>\n",
       "<table border=\"1\" class=\"dataframe\">\n",
       "  <thead>\n",
       "    <tr style=\"text-align: right;\">\n",
       "      <th></th>\n",
       "      <th>category</th>\n",
       "      <th>id</th>\n",
       "      <th>content</th>\n",
       "    </tr>\n",
       "  </thead>\n",
       "  <tbody>\n",
       "    <tr>\n",
       "      <th>0</th>\n",
       "      <td>business</td>\n",
       "      <td>business001</td>\n",
       "      <td>Ad sales boost Time Warner profit\\n\\nQuarterly...</td>\n",
       "    </tr>\n",
       "    <tr>\n",
       "      <th>1</th>\n",
       "      <td>business</td>\n",
       "      <td>business002</td>\n",
       "      <td>Dollar gains on Greenspan speech\\n\\nThe dollar...</td>\n",
       "    </tr>\n",
       "    <tr>\n",
       "      <th>2</th>\n",
       "      <td>business</td>\n",
       "      <td>business003</td>\n",
       "      <td>Yukos unit buyer faces loan claim\\n\\nThe owner...</td>\n",
       "    </tr>\n",
       "  </tbody>\n",
       "</table>\n",
       "</div>"
      ],
      "text/plain": [
       "   category           id                                            content\n",
       "0  business  business001  Ad sales boost Time Warner profit\\n\\nQuarterly...\n",
       "1  business  business002  Dollar gains on Greenspan speech\\n\\nThe dollar...\n",
       "2  business  business003  Yukos unit buyer faces loan claim\\n\\nThe owner..."
      ]
     },
     "execution_count": 6,
     "metadata": {},
     "output_type": "execute_result"
    }
   ],
   "source": [
    "bbc_data.rename({0:'category',1:'id',2:'content'},axis=1,inplace=True)\n",
    "bbc_data.head(3)"
   ]
  },
  {
   "cell_type": "markdown",
   "metadata": {},
   "source": [
    "##### Labelling categorical values"
   ]
  },
  {
   "cell_type": "code",
   "execution_count": 7,
   "metadata": {
    "ExecuteTime": {
     "end_time": "2020-05-15T15:46:56.841910Z",
     "start_time": "2020-05-15T15:46:56.694788Z"
    }
   },
   "outputs": [
    {
     "data": {
      "text/html": [
       "<div>\n",
       "<style scoped>\n",
       "    .dataframe tbody tr th:only-of-type {\n",
       "        vertical-align: middle;\n",
       "    }\n",
       "\n",
       "    .dataframe tbody tr th {\n",
       "        vertical-align: top;\n",
       "    }\n",
       "\n",
       "    .dataframe thead th {\n",
       "        text-align: right;\n",
       "    }\n",
       "</style>\n",
       "<table border=\"1\" class=\"dataframe\">\n",
       "  <thead>\n",
       "    <tr style=\"text-align: right;\">\n",
       "      <th></th>\n",
       "      <th>category</th>\n",
       "      <th>id</th>\n",
       "      <th>content</th>\n",
       "      <th>category_id</th>\n",
       "    </tr>\n",
       "  </thead>\n",
       "  <tbody>\n",
       "    <tr>\n",
       "      <th>0</th>\n",
       "      <td>business</td>\n",
       "      <td>business001</td>\n",
       "      <td>Ad sales boost Time Warner profit\\n\\nQuarterly...</td>\n",
       "      <td>0</td>\n",
       "    </tr>\n",
       "    <tr>\n",
       "      <th>1</th>\n",
       "      <td>business</td>\n",
       "      <td>business002</td>\n",
       "      <td>Dollar gains on Greenspan speech\\n\\nThe dollar...</td>\n",
       "      <td>0</td>\n",
       "    </tr>\n",
       "    <tr>\n",
       "      <th>2</th>\n",
       "      <td>business</td>\n",
       "      <td>business003</td>\n",
       "      <td>Yukos unit buyer faces loan claim\\n\\nThe owner...</td>\n",
       "      <td>0</td>\n",
       "    </tr>\n",
       "  </tbody>\n",
       "</table>\n",
       "</div>"
      ],
      "text/plain": [
       "   category           id                                            content  \\\n",
       "0  business  business001  Ad sales boost Time Warner profit\\n\\nQuarterly...   \n",
       "1  business  business002  Dollar gains on Greenspan speech\\n\\nThe dollar...   \n",
       "2  business  business003  Yukos unit buyer faces loan claim\\n\\nThe owner...   \n",
       "\n",
       "   category_id  \n",
       "0            0  \n",
       "1            0  \n",
       "2            0  "
      ]
     },
     "execution_count": 7,
     "metadata": {},
     "output_type": "execute_result"
    }
   ],
   "source": [
    "bbc_data['category_id']=bbc_data['category'].factorize()[0]\n",
    "bbc_data.head(3)"
   ]
  },
  {
   "cell_type": "markdown",
   "metadata": {},
   "source": [
    "**Observations:**"
   ]
  },
  {
   "cell_type": "markdown",
   "metadata": {},
   "source": [
    "- Created a base data,where category,id,content & category_id are features."
   ]
  },
  {
   "cell_type": "markdown",
   "metadata": {},
   "source": [
    "#### Basic Statistics"
   ]
  },
  {
   "cell_type": "markdown",
   "metadata": {},
   "source": [
    "##### Shape & Info"
   ]
  },
  {
   "cell_type": "code",
   "execution_count": 8,
   "metadata": {
    "ExecuteTime": {
     "end_time": "2020-05-15T15:46:57.000005Z",
     "start_time": "2020-05-15T15:46:56.846897Z"
    }
   },
   "outputs": [
    {
     "name": "stdout",
     "output_type": "stream",
     "text": [
      "Number of rows in DataFrame:2225,Number of Features:4\n"
     ]
    }
   ],
   "source": [
    "print(f\"Number of rows in DataFrame:{bbc_data.shape[0]},Number of Features:{bbc_data.shape[1]}\")"
   ]
  },
  {
   "cell_type": "code",
   "execution_count": 9,
   "metadata": {
    "ExecuteTime": {
     "end_time": "2020-05-15T15:46:57.171127Z",
     "start_time": "2020-05-15T15:46:57.004008Z"
    }
   },
   "outputs": [
    {
     "name": "stdout",
     "output_type": "stream",
     "text": [
      "<class 'pandas.core.frame.DataFrame'>\n",
      "RangeIndex: 2225 entries, 0 to 2224\n",
      "Data columns (total 4 columns):\n",
      "category       2225 non-null object\n",
      "id             2225 non-null object\n",
      "content        2225 non-null object\n",
      "category_id    2225 non-null int64\n",
      "dtypes: int64(1), object(3)\n",
      "memory usage: 69.6+ KB\n"
     ]
    }
   ],
   "source": [
    "bbc_data.info()"
   ]
  },
  {
   "cell_type": "markdown",
   "metadata": {},
   "source": [
    "#### Null Value treatment"
   ]
  },
  {
   "cell_type": "code",
   "execution_count": 10,
   "metadata": {
    "ExecuteTime": {
     "end_time": "2020-05-15T15:46:57.314229Z",
     "start_time": "2020-05-15T15:46:57.174129Z"
    }
   },
   "outputs": [
    {
     "data": {
      "text/plain": [
       "category       0\n",
       "id             0\n",
       "content        0\n",
       "category_id    0\n",
       "dtype: int64"
      ]
     },
     "execution_count": 10,
     "metadata": {},
     "output_type": "execute_result"
    }
   ],
   "source": [
    "bbc_data.isna().sum()"
   ]
  },
  {
   "cell_type": "markdown",
   "metadata": {},
   "source": [
    "- There are no rows or columns with null values/missing values."
   ]
  },
  {
   "cell_type": "markdown",
   "metadata": {},
   "source": [
    "#### Glimpse of the document"
   ]
  },
  {
   "cell_type": "code",
   "execution_count": 11,
   "metadata": {
    "ExecuteTime": {
     "end_time": "2020-05-15T15:46:57.532384Z",
     "start_time": "2020-05-15T15:46:57.318232Z"
    }
   },
   "outputs": [
    {
     "name": "stdout",
     "output_type": "stream",
     "text": [
      "******************************\n",
      "Document ID :  sport419\n",
      "Category :  sport\n",
      "Content : \n",
      "-------\n",
      "Tindall aiming to earn Lions spot\n",
      "\n",
      "Bath and England centre Mike Tindall believes he can make this summer's Lions tour, despite missing most of the season through injury.\n",
      "\n",
      "The World Cup winner has been out of action since December, having damaged both his shoulder and his foot. But Tindall, who recently signed for Bath's west-country rivals Gloucester, told Rugby Special he would be fit in time for the tour to New Zealand. \"I'm aiming to be fit by 18 April and hope I can play from then,\" he said. \"I've spoken to Sir Clive Woodward and he understands the situation, so I just hope that I can get on the tour.\" The 26-year-old will face stiff competition for those centre places from Brian O'Driscoll, Gordon D'Arcy and Gavin Henson, and is aware that competition is intense.\n",
      "\n",
      "But after missing out on the 2001 tour to Australia with a knee injury, Tindall says he will be happy just to have an opportunity to wear the red shirt. \"I'm quite laid back about it to be honest - it's quite hard for me to expect to be pushing for a Test spot,\" he said. \"But after what's happened this season at least Clive knows I'll be 100% fresh!\"\n",
      "\n",
      "- For the full interview with Mike Tindall tune into this Sunday's Rugby Special, 2340 on BBC Two\n",
      "\n",
      "====================================\n",
      "******************************\n",
      "Document ID :  business348\n",
      "Category :  business\n",
      "Content : \n",
      "-------\n",
      "US to probe airline travel chaos\n",
      "\n",
      "The US government is to investigate two airlines- US Airways and Delta Air Lines' Comair subsidiary - after travel chaos over the Christmas weekend.\n",
      "\n",
      "Staff calling in sick at US Airways and computer failures at Comair left 30,000 passengers stranded and 10,000 pieces of baggage undelivered. US Airways is in Chapter 11 bankruptcy protection for the second time in two years, and battling to cut costs. It is currently trying to negotiate pay cuts with flight and baggage staff.\n",
      "\n",
      "Transportation Secretary Norman Mineta said he was \"deeply concerned\" at the disruption to passengers, and ordered a thorough investigation. Comair's computer breakdown plunged its flight-crew scheduling system into disarray. Altogether, some 1,100 flights were cancelled over the holiday long weekend. Mr Mineta said it was important to understand \"what happened, why it happened and whether the carriers properly planned for the holiday travel period and responded appropriately to consumer needs in the aftermath\".\n",
      "\n",
      "Adding to the atmosphere of chaos were mountains of luggage left to pile up when a third of US Airways' baggage handling staff called in sick. There was also a shortage of US Airways flight attendants, with nearly a fifth saying they were too sick to work, leading to many flight cancellations. However, union officials denied there had been a deliberate \"sickout\". They said that many people have flu at this time of year and that the airline is chronically understaffed.\n",
      "\n",
      "US Airways ended up cancelling over 100 flights on Christmas Day, stranding passengers in as many as 119 airports. Ground crews at US Airways, the seventh-largest US airline, which is now in Chapter 11 bankruptcy protection, face a court-imposed pay cut next month. The airline needs to negotiate other paycuts if it is to find a route out of bankruptcy. It is looking for paycuts totalling $800m.\n",
      "\n",
      "\"US Airways has a full-scale employee mutiny on its hands,\" commented Michael Boyd, an industry consultant. Disruptions to flight schedules could discourage customers from flying with US Airways, reducing revenues. US Airways had to cancel approximately 65 flights on Thursday, 180 on Friday, 140 on Saturday, 43 on Sunday and 15 on Monday, said industry officials. The airline said it was \"embarrassed by the situation\" and \"deeply regrets any inconvenience caused to customers,\" The probe will focus on the industry's compliance with a 1999 agreement aimed at improving the quality of passenger service that has so far allowed airlines to avoid congressionally-mandated standards. Analysts said the Christmas chaos cast doubt on US Airway's ability to emerge from bankruptcy - and was likely to worsen the finances of troubled Delta, parent of Comair. Comair \"deeply regrets the inconvenience to all of our customers caused by the severe winter storm in the Ohio River Valley during the busy holiday season, exacerbated by problems with the airline's crew scheduling system, causing additional flight delays and cancellations,\" the Delta subsidiary said in a statement.\n",
      "\n",
      "====================================\n",
      "******************************\n",
      "Document ID :  entertainment114\n",
      "Category :  entertainment\n",
      "Content : \n",
      "-------\n",
      "Pete Doherty misses bail deadline\n",
      "\n",
      "Singer Pete Doherty will have to spend the weekend in jail because he could not come up with Â£150,000 bond money for his bail on time.\n",
      "\n",
      "The former Libertines singer had been granted bail with curfew restrictions at Highbury Corner Magistrates Court on charges of robbery and blackmail. But his lawyer said the money could not be raised on time. Mr Doherty, 25, was arrested following an alleged incident in a London hotel on Wednesday evening. Musician Alan Wass, 23, also of north London, appeared in court accused of the same offences.\n",
      "\n",
      "Magistrates imposed a range of bail conditions on Mr Doherty including a curfew between 2200 and 0700, except when he attends a drug rehabilitation centre. He was told he would not be able to leave his home without being accompanied by a security firm. He must also surrender his passport and report daily to a local police station. Mr Wass was also given a curfew and told to surrender his passport. Mr Doherty left The Libertines at the end of June 2004, but continued performing with his band Babyshambles. The singer, who has been linked to supermodel Kate Moss, was arrested after police were called to the Islington hotel in response to claims that a man had been assaulted. A man in his 30s was later taken to University College Hospital, London, with facial injuries, before being discharged. A lawyer representing Mr Doherty and Mr Wass said outside court the pair strenuously denied the charges.\n",
      "\n",
      "====================================\n"
     ]
    }
   ],
   "source": [
    "import random\n",
    "num = 3\n",
    "sample = random.sample(range(bbc_data.content.shape[0]), num)\n",
    "\n",
    "for idx in sample:\n",
    "    print('*'*30)\n",
    "    values = bbc_data.iloc[idx]\n",
    "    print('Document ID : ', values['id'])\n",
    "    print('Category : ', values['category'])\n",
    "    print('Content : \\n'+'-'*7)\n",
    "    print(values['content'])\n",
    "    print('='*36)"
   ]
  },
  {
   "cell_type": "markdown",
   "metadata": {},
   "source": [
    "**Observations:**"
   ]
  },
  {
   "cell_type": "markdown",
   "metadata": {},
   "source": [
    "- Each Document starts with a headline.\n",
    "- The headline can be extracted and use as an additional feature."
   ]
  },
  {
   "cell_type": "markdown",
   "metadata": {},
   "source": [
    "#### Basic Feature Extraction"
   ]
  },
  {
   "cell_type": "markdown",
   "metadata": {},
   "source": [
    "- Extracting first line of each article,and adding a new feature title."
   ]
  },
  {
   "cell_type": "markdown",
   "metadata": {},
   "source": [
    "##### Extracting title"
   ]
  },
  {
   "cell_type": "code",
   "execution_count": 12,
   "metadata": {
    "ExecuteTime": {
     "end_time": "2020-05-15T15:46:57.762580Z",
     "start_time": "2020-05-15T15:46:57.535386Z"
    }
   },
   "outputs": [],
   "source": [
    "text = bbc_data[\"content\"].str.split(\"\\n\", n = 1, expand = True) \n",
    "\n",
    "bbc_data[\"title\"] =  text[0]\n",
    "bbc_data['content'] = text[1]"
   ]
  },
  {
   "cell_type": "code",
   "execution_count": 13,
   "metadata": {
    "ExecuteTime": {
     "end_time": "2020-05-15T15:46:57.845606Z",
     "start_time": "2020-05-15T15:46:57.764551Z"
    }
   },
   "outputs": [
    {
     "data": {
      "text/plain": [
       "pandas.core.frame.DataFrame"
      ]
     },
     "execution_count": 13,
     "metadata": {},
     "output_type": "execute_result"
    }
   ],
   "source": [
    "type(text)"
   ]
  },
  {
   "cell_type": "code",
   "execution_count": 14,
   "metadata": {
    "ExecuteTime": {
     "end_time": "2020-05-15T15:46:57.989708Z",
     "start_time": "2020-05-15T15:46:57.851619Z"
    }
   },
   "outputs": [
    {
     "data": {
      "text/html": [
       "<div>\n",
       "<style scoped>\n",
       "    .dataframe tbody tr th:only-of-type {\n",
       "        vertical-align: middle;\n",
       "    }\n",
       "\n",
       "    .dataframe tbody tr th {\n",
       "        vertical-align: top;\n",
       "    }\n",
       "\n",
       "    .dataframe thead th {\n",
       "        text-align: right;\n",
       "    }\n",
       "</style>\n",
       "<table border=\"1\" class=\"dataframe\">\n",
       "  <thead>\n",
       "    <tr style=\"text-align: right;\">\n",
       "      <th></th>\n",
       "      <th>category</th>\n",
       "      <th>id</th>\n",
       "      <th>content</th>\n",
       "      <th>category_id</th>\n",
       "      <th>title</th>\n",
       "    </tr>\n",
       "  </thead>\n",
       "  <tbody>\n",
       "    <tr>\n",
       "      <th>0</th>\n",
       "      <td>business</td>\n",
       "      <td>business001</td>\n",
       "      <td>\\nQuarterly profits at US media giant TimeWarn...</td>\n",
       "      <td>0</td>\n",
       "      <td>Ad sales boost Time Warner profit</td>\n",
       "    </tr>\n",
       "    <tr>\n",
       "      <th>1</th>\n",
       "      <td>business</td>\n",
       "      <td>business002</td>\n",
       "      <td>\\nThe dollar has hit its highest level against...</td>\n",
       "      <td>0</td>\n",
       "      <td>Dollar gains on Greenspan speech</td>\n",
       "    </tr>\n",
       "  </tbody>\n",
       "</table>\n",
       "</div>"
      ],
      "text/plain": [
       "   category           id                                            content  \\\n",
       "0  business  business001  \\nQuarterly profits at US media giant TimeWarn...   \n",
       "1  business  business002  \\nThe dollar has hit its highest level against...   \n",
       "\n",
       "   category_id                              title  \n",
       "0            0  Ad sales boost Time Warner profit  \n",
       "1            0   Dollar gains on Greenspan speech  "
      ]
     },
     "execution_count": 14,
     "metadata": {},
     "output_type": "execute_result"
    }
   ],
   "source": [
    "bbc_data.head(2)"
   ]
  },
  {
   "cell_type": "code",
   "execution_count": 15,
   "metadata": {
    "ExecuteTime": {
     "end_time": "2020-05-15T15:46:58.136842Z",
     "start_time": "2020-05-15T15:46:57.992712Z"
    }
   },
   "outputs": [
    {
     "name": "stdout",
     "output_type": "stream",
     "text": [
      "==============================================================================================================\n",
      "Title:Japan narrowly escapes recession\n",
      "--------------------------------------------------------------------------------------------------------------\n",
      "\n",
      "Japan's economy teetered on the brink of a technical recession in the three months to September, figures show.\n",
      "\n",
      "Revised figures indicated growth of just 0.1% - and a similar-sized contraction in the previous quarter. On an annual basis, the data suggests annual growth of just 0.2%, suggesting a much more hesitant recovery than had previously been thought. A common technical definition of a recession is two successive quarters of negative growth.\n",
      "\n",
      "The government was keen to play down the worrying implications of the data. \"I maintain the view that Japan's economy remains in a minor adjustment phase in an upward climb, and we will monitor developments carefully,\" said economy minister Heizo Takenaka. But in the face of the strengthening yen making exports less competitive and indications of weakening economic conditions ahead, observers were less sanguine. \"It's painting a picture of a recovery... much patchier than previously thought,\" said Paul Sheard, economist at Lehman Brothers in Tokyo. Improvements in the job market apparently have yet to feed through to domestic demand, with private consumption up just 0.2% in the third quarter.\n",
      "\n",
      "==============================================================================================================\n"
     ]
    }
   ],
   "source": [
    "print(\"=\"*110)\n",
    "print(f\"Title:{bbc_data.iloc[5]['title']}\")\n",
    "print(\"-\"*110)\n",
    "print(bbc_data.iloc[5]['content'])\n",
    "print(\"=\"*110)"
   ]
  },
  {
   "cell_type": "markdown",
   "metadata": {},
   "source": [
    "#### Basic EDA"
   ]
  },
  {
   "cell_type": "markdown",
   "metadata": {},
   "source": [
    "##### Distribution of target variable-categories"
   ]
  },
  {
   "cell_type": "code",
   "execution_count": 16,
   "metadata": {
    "ExecuteTime": {
     "end_time": "2020-05-15T15:46:58.920369Z",
     "start_time": "2020-05-15T15:46:58.143820Z"
    }
   },
   "outputs": [
    {
     "data": {
      "image/png": "[encoded data removed]",
      "text/plain": [
       "<Figure size 1440x432 with 2 Axes>"
      ]
     },
     "metadata": {
      "needs_background": "light"
     },
     "output_type": "display_data"
    }
   ],
   "source": [
    "plt.figure(figsize=(20,6))\n",
    "plt.subplot(1,2,1)\n",
    "sns.countplot(x='category',data=bbc_data)\n",
    "plt.title('Distribution of categories')\n",
    "\n",
    "plt.subplot(1,2,2)\n",
    "sizes=[x for x in bbc_data['category'].value_counts()]\n",
    "status=bbc_data['category'].value_counts().index\n",
    "plt.pie(sizes,labels=status,wedgeprops=dict(width=0.5),startangle=90,autopct='%1.2f%%')\n",
    "plt.legend()\n",
    "plt.title('Distribution of categories')\n",
    "plt.show()"
   ]
  },
  {
   "cell_type": "code",
   "execution_count": 17,
   "metadata": {
    "ExecuteTime": {
     "end_time": "2020-05-15T15:46:58.933379Z",
     "start_time": "2020-05-15T15:46:58.923371Z"
    }
   },
   "outputs": [
    {
     "data": {
      "text/plain": [
       "sport            511\n",
       "business         510\n",
       "politics         417\n",
       "tech             401\n",
       "entertainment    386\n",
       "Name: category, dtype: int64"
      ]
     },
     "execution_count": 17,
     "metadata": {},
     "output_type": "execute_result"
    }
   ],
   "source": [
    "bbc_data['category'].value_counts()\n"
   ]
  },
  {
   "cell_type": "markdown",
   "metadata": {},
   "source": [
    "**Observations:**"
   ]
  },
  {
   "cell_type": "markdown",
   "metadata": {},
   "source": [
    "- Contribution of entertainment to the data set is less compared to other categories.\n",
    "- Differrence between classes with highest contribution and lowest contribution is not more than 5%."
   ]
  },
  {
   "cell_type": "markdown",
   "metadata": {},
   "source": [
    "#### title"
   ]
  },
  {
   "cell_type": "code",
   "execution_count": 18,
   "metadata": {
    "ExecuteTime": {
     "end_time": "2020-05-15T15:46:59.346673Z",
     "start_time": "2020-05-15T15:46:58.936381Z"
    }
   },
   "outputs": [
    {
     "data": {
      "image/png": "[encoded data removed]",
      "text/plain": [
       "<Figure size 1440x360 with 1 Axes>"
      ]
     },
     "metadata": {
      "needs_background": "light"
     },
     "output_type": "display_data"
    }
   ],
   "source": [
    "# Calculate number of words in a string in DataFrame\" - https://stackoverflow.com/a/37483537/4084039\n",
    "\n",
    "word_dict = dict(bbc_data['title'].str.split().apply(len).value_counts())\n",
    "\n",
    "idx = np.arange(len(word_dict))\n",
    "plt.figure(figsize=(20,5))\n",
    "p1 = plt.bar(idx, list(word_dict.values()))\n",
    "\n",
    "plt.ylabel('Number of docments',fontsize=12)\n",
    "plt.xlabel('Number of words in document title',fontsize=12)\n",
    "plt.title('Words for each title of the document',fontsize=15)\n",
    "plt.xticks(idx, list(word_dict.keys()))\n",
    "plt.show()"
   ]
  },
  {
   "cell_type": "markdown",
   "metadata": {},
   "source": [
    "- Majority of the articles are having 4-6 words in title.\n",
    "- There are very few articles with more than 7 words per title.\n",
    "- Reporters/Editors prefer to give scrip and meaningful headlines to articles."
   ]
  },
  {
   "cell_type": "markdown",
   "metadata": {},
   "source": [
    "#### Boxplot to check words in document title"
   ]
  },
  {
   "cell_type": "code",
   "execution_count": 19,
   "metadata": {
    "ExecuteTime": {
     "end_time": "2020-05-15T15:46:59.664898Z",
     "start_time": "2020-05-15T15:46:59.350675Z"
    }
   },
   "outputs": [
    {
     "data": {
      "image/png": "[encoded data removed]",
      "text/plain": [
       "<Figure size 576x288 with 1 Axes>"
      ]
     },
     "metadata": {
      "needs_background": "light"
     },
     "output_type": "display_data"
    }
   ],
   "source": [
    "from collections import defaultdict\n",
    "frame = defaultdict(list)\n",
    "cat_titles_word_count = defaultdict(list)\n",
    "for cat in bbc_data.category.unique():\n",
    "    val = bbc_data[bbc_data['category']==cat]['title'].str.split().apply(len).values\n",
    "    cat_titles_word_count[cat]=val\n",
    "# distribution of titles across categories\n",
    "plt.figure(figsize=(8,4))\n",
    "plt.boxplot(cat_titles_word_count.values(),patch_artist=True)\n",
    "keys = cat_titles_word_count.keys()\n",
    "plt.xticks([i+1 for i in range(len(keys))], keys)\n",
    "plt.ylabel('Words in document title')\n",
    "#plt.grid()\n",
    "plt.show()"
   ]
  },
  {
   "cell_type": "markdown",
   "metadata": {},
   "source": [
    "- All category have title words ranging between 4-7,except sport."
   ]
  },
  {
   "cell_type": "markdown",
   "metadata": {},
   "source": [
    "#### Text Preprocessing"
   ]
  },
  {
   "cell_type": "code",
   "execution_count": 20,
   "metadata": {
    "ExecuteTime": {
     "end_time": "2020-05-15T15:46:59.685913Z",
     "start_time": "2020-05-15T15:46:59.667901Z"
    }
   },
   "outputs": [],
   "source": [
    "#Creating a stopword list\n",
    "# https://gist.github.com/sebleier/554280\n",
    "# we are removing the words from the stop words list: 'no', 'nor', 'not'\n",
    "stopwords= ['i', 'me', 'my', 'myself', 'we', 'our', 'ours', 'ourselves', 'you', \"you're\", \"you've\",\\\n",
    "            \"you'll\", \"you'd\", 'your', 'yours', 'yourself', 'yourselves', 'he', 'him', 'his', 'himself', \\\n",
    "            'she', \"she's\", 'her', 'hers', 'herself', 'it', \"it's\", 'its', 'itself', 'they', 'them', 'their',\\\n",
    "            'theirs', 'themselves', 'what', 'which', 'who', 'whom', 'this', 'that', \"that'll\", 'these', 'those', \\\n",
    "            'am', 'is', 'are', 'was', 'were', 'be', 'been', 'being', 'have', 'has', 'had', 'having', 'do', 'does', \\\n",
    "            'did', 'doing', 'a', 'an', 'the', 'and', 'but', 'if', 'or', 'because', 'as', 'until', 'while', 'of', \\\n",
    "            'at', 'by', 'for', 'with', 'about', 'against', 'between', 'into', 'through', 'during', 'before', 'after',\\\n",
    "            'above', 'below', 'to', 'from', 'up', 'down', 'in', 'out', 'on', 'off', 'over', 'under', 'again', 'further',\\\n",
    "            'then', 'once', 'here', 'there', 'when', 'where', 'why', 'how', 'all', 'any', 'both', 'each', 'few', 'more',\\\n",
    "            'most', 'other', 'some', 'such', 'only', 'own', 'same', 'so', 'than', 'too', 'very', \\\n",
    "            's', 't', 'can', 'will', 'just', 'don', \"don't\", 'should', \"should've\", 'now', 'd', 'll', 'm', 'o', 're', \\\n",
    "            've', 'y', 'ain', 'aren', \"aren't\", 'couldn', \"couldn't\", 'didn', \"didn't\", 'doesn', \"doesn't\", 'hadn',\\\n",
    "            \"hadn't\", 'hasn', \"hasn't\", 'haven', \"haven't\", 'isn', \"isn't\", 'ma', 'mightn', \"mightn't\", 'mustn',\\\n",
    "            \"mustn't\", 'needn', \"needn't\", 'shan', \"shan't\", 'shouldn', \"shouldn't\", 'wasn', \"wasn't\", 'weren', \"weren't\", \\\n",
    "            'won', \"won't\", 'wouldn', \"wouldn't\",\"january\",\"february\",\"march\",\"april\",\"may\",\"june\",\"july\",\"august\",\"septemer\",\\\n",
    "             \"october\",\"november\",\"december\",\"today\",\"tomorrow\",\"yesterday\"]"
   ]
  },
  {
   "cell_type": "code",
   "execution_count": 21,
   "metadata": {
    "ExecuteTime": {
     "end_time": "2020-05-15T15:46:59.832052Z",
     "start_time": "2020-05-15T15:46:59.688918Z"
    }
   },
   "outputs": [],
   "source": [
    "import re\n",
    "import unicodedata\n",
    "\n",
    "def clean_text(text):\n",
    "    #Treat accented characters\n",
    "    text=unicodedata.normalize('NFKD',text).encode('ascii','ignore').decode('utf-8','ignore')    \n",
    "    \n",
    "    # Decontracting Words\n",
    "    text = re.sub(r\"won't\", \"will not\", text)\n",
    "    text = re.sub(r\"can\\'t\", \"can not\", text)\n",
    "    text = re.sub(r\"n\\'t\", \" not\", text)\n",
    "    text = re.sub(r\"\\'re\", \" are\", text)\n",
    "    text = re.sub(r\"\\'s\", \" is\", text)\n",
    "    text = re.sub(r\"\\'d\", \" would\", text)\n",
    "    text = re.sub(r\"\\'ll\", \" will\", text)\n",
    "    text = re.sub(r\"\\'t\", \" not\", text)\n",
    "    text = re.sub(r\"\\'ve\", \" have\", text)\n",
    "    text = re.sub(r\"\\'m\", \" am\", text)\n",
    "    text=re.sub(r\"They'd\", \"they would\", text)\n",
    "    text=re.sub(r\"don't\", \"do not\", text)\n",
    "    \n",
    "    #remove html tags\n",
    "    pattern=re.compile(r'<.*?>')\n",
    "    text=re.sub(pattern,' ',text)\n",
    "    pattern=re.compile(r'http\\?s\\S+')\n",
    "    text=re.sub(pattern,' ',text)\n",
    "    \n",
    "    # remove Special characters\n",
    "    text = re.sub('[^A-Za-z0-9]+', ' ', text)\n",
    "    text = text.lower()\n",
    "\n",
    "    # remove line breaks \\r \\n \\t remove from string \n",
    "    text = text.replace('\\\\r', ' ')\n",
    "    text = text.replace('\\\\\"', ' ')\n",
    "    text = text.replace('\\\\t', ' ')\n",
    "    text = text.replace('\\\\n', ' ')\n",
    "\n",
    "    # remove stopwords\n",
    "    text = ' '.join(word.lower() for word in text.split() if word not in stopwords)\n",
    "\n",
    "    return text"
   ]
  },
  {
   "cell_type": "markdown",
   "metadata": {},
   "source": [
    "##### title"
   ]
  },
  {
   "cell_type": "markdown",
   "metadata": {},
   "source": [
    "- Normalizing text data by removing html&URL tags followed by decontracting words and removing stopwords."
   ]
  },
  {
   "cell_type": "code",
   "execution_count": 22,
   "metadata": {
    "ExecuteTime": {
     "end_time": "2020-05-15T15:47:00.571543Z",
     "start_time": "2020-05-15T15:46:59.837028Z"
    }
   },
   "outputs": [
    {
     "name": "stderr",
     "output_type": "stream",
     "text": [
      "100%|███████████████████████████████████| 2225/2225 [00:00<00:00, 13724.66it/s]\n"
     ]
    }
   ],
   "source": [
    "from tqdm import tqdm\n",
    "clean_titles = []\n",
    "for title in tqdm(bbc_data['title'].values):\n",
    "    clean_title = clean_text(title)\n",
    "    clean_titles.append(clean_title)\n",
    "bbc_data['title']=clean_titles"
   ]
  },
  {
   "cell_type": "markdown",
   "metadata": {
    "ExecuteTime": {
     "end_time": "2020-05-06T01:35:13.733068Z",
     "start_time": "2020-05-06T01:35:13.729051Z"
    }
   },
   "source": [
    "##### content"
   ]
  },
  {
   "cell_type": "code",
   "execution_count": 23,
   "metadata": {
    "ExecuteTime": {
     "end_time": "2020-05-15T15:47:05.026707Z",
     "start_time": "2020-05-15T15:47:00.578548Z"
    }
   },
   "outputs": [
    {
     "name": "stderr",
     "output_type": "stream",
     "text": [
      "100%|█████████████████████████████████████| 2225/2225 [00:04<00:00, 501.90it/s]\n"
     ]
    }
   ],
   "source": [
    "from tqdm import tqdm\n",
    "clean_contents = []\n",
    "for content in tqdm(bbc_data['content'].values):\n",
    "    clean_content = clean_text(content)\n",
    "    clean_contents.append(clean_content)\n",
    "bbc_data['content']=clean_contents"
   ]
  },
  {
   "cell_type": "code",
   "execution_count": 24,
   "metadata": {
    "ExecuteTime": {
     "end_time": "2020-05-15T15:47:05.051727Z",
     "start_time": "2020-05-15T15:47:05.033715Z"
    }
   },
   "outputs": [
    {
     "data": {
      "text/html": [
       "<div>\n",
       "<style scoped>\n",
       "    .dataframe tbody tr th:only-of-type {\n",
       "        vertical-align: middle;\n",
       "    }\n",
       "\n",
       "    .dataframe tbody tr th {\n",
       "        vertical-align: top;\n",
       "    }\n",
       "\n",
       "    .dataframe thead th {\n",
       "        text-align: right;\n",
       "    }\n",
       "</style>\n",
       "<table border=\"1\" class=\"dataframe\">\n",
       "  <thead>\n",
       "    <tr style=\"text-align: right;\">\n",
       "      <th></th>\n",
       "      <th>category</th>\n",
       "      <th>id</th>\n",
       "      <th>content</th>\n",
       "      <th>category_id</th>\n",
       "      <th>title</th>\n",
       "    </tr>\n",
       "  </thead>\n",
       "  <tbody>\n",
       "    <tr>\n",
       "      <th>0</th>\n",
       "      <td>business</td>\n",
       "      <td>business001</td>\n",
       "      <td>quarterly profits us media giant timewarner ju...</td>\n",
       "      <td>0</td>\n",
       "      <td>ad sales boost time warner profit</td>\n",
       "    </tr>\n",
       "    <tr>\n",
       "      <th>1</th>\n",
       "      <td>business</td>\n",
       "      <td>business002</td>\n",
       "      <td>dollar hit highest level euro almost three mon...</td>\n",
       "      <td>0</td>\n",
       "      <td>dollar gains greenspan speech</td>\n",
       "    </tr>\n",
       "    <tr>\n",
       "      <th>2</th>\n",
       "      <td>business</td>\n",
       "      <td>business003</td>\n",
       "      <td>owners embattled russian oil giant yukos ask b...</td>\n",
       "      <td>0</td>\n",
       "      <td>yukos unit buyer faces loan claim</td>\n",
       "    </tr>\n",
       "  </tbody>\n",
       "</table>\n",
       "</div>"
      ],
      "text/plain": [
       "   category           id                                            content  \\\n",
       "0  business  business001  quarterly profits us media giant timewarner ju...   \n",
       "1  business  business002  dollar hit highest level euro almost three mon...   \n",
       "2  business  business003  owners embattled russian oil giant yukos ask b...   \n",
       "\n",
       "   category_id                              title  \n",
       "0            0  ad sales boost time warner profit  \n",
       "1            0      dollar gains greenspan speech  \n",
       "2            0  yukos unit buyer faces loan claim  "
      ]
     },
     "execution_count": 24,
     "metadata": {},
     "output_type": "execute_result"
    }
   ],
   "source": [
    "bbc_data.head(3)"
   ]
  },
  {
   "cell_type": "markdown",
   "metadata": {},
   "source": [
    "#### Traget-Features Split"
   ]
  },
  {
   "cell_type": "markdown",
   "metadata": {},
   "source": [
    "- Splitting dataset into dependable and independable variables."
   ]
  },
  {
   "cell_type": "code",
   "execution_count": 25,
   "metadata": {
    "ExecuteTime": {
     "end_time": "2020-05-15T15:47:05.287895Z",
     "start_time": "2020-05-15T15:47:05.055729Z"
    }
   },
   "outputs": [],
   "source": [
    "X=bbc_data.iloc[:,bbc_data.columns!='category_id']\n",
    "X.drop(['id','category'],axis=1,inplace=True)\n",
    "Y=bbc_data['category_id']"
   ]
  },
  {
   "cell_type": "code",
   "execution_count": 26,
   "metadata": {
    "ExecuteTime": {
     "end_time": "2020-05-15T15:47:05.469023Z",
     "start_time": "2020-05-15T15:47:05.289893Z"
    }
   },
   "outputs": [
    {
     "data": {
      "text/html": [
       "<div>\n",
       "<style scoped>\n",
       "    .dataframe tbody tr th:only-of-type {\n",
       "        vertical-align: middle;\n",
       "    }\n",
       "\n",
       "    .dataframe tbody tr th {\n",
       "        vertical-align: top;\n",
       "    }\n",
       "\n",
       "    .dataframe thead th {\n",
       "        text-align: right;\n",
       "    }\n",
       "</style>\n",
       "<table border=\"1\" class=\"dataframe\">\n",
       "  <thead>\n",
       "    <tr style=\"text-align: right;\">\n",
       "      <th></th>\n",
       "      <th>content</th>\n",
       "      <th>title</th>\n",
       "    </tr>\n",
       "  </thead>\n",
       "  <tbody>\n",
       "    <tr>\n",
       "      <th>0</th>\n",
       "      <td>quarterly profits us media giant timewarner ju...</td>\n",
       "      <td>ad sales boost time warner profit</td>\n",
       "    </tr>\n",
       "    <tr>\n",
       "      <th>1</th>\n",
       "      <td>dollar hit highest level euro almost three mon...</td>\n",
       "      <td>dollar gains greenspan speech</td>\n",
       "    </tr>\n",
       "  </tbody>\n",
       "</table>\n",
       "</div>"
      ],
      "text/plain": [
       "                                             content  \\\n",
       "0  quarterly profits us media giant timewarner ju...   \n",
       "1  dollar hit highest level euro almost three mon...   \n",
       "\n",
       "                               title  \n",
       "0  ad sales boost time warner profit  \n",
       "1      dollar gains greenspan speech  "
      ]
     },
     "execution_count": 26,
     "metadata": {},
     "output_type": "execute_result"
    }
   ],
   "source": [
    "X.head(2)"
   ]
  },
  {
   "cell_type": "code",
   "execution_count": 27,
   "metadata": {
    "ExecuteTime": {
     "end_time": "2020-05-15T15:47:05.635141Z",
     "start_time": "2020-05-15T15:47:05.475027Z"
    }
   },
   "outputs": [
    {
     "data": {
      "text/plain": [
       "0    0\n",
       "1    0\n",
       "2    0\n",
       "Name: category_id, dtype: int64"
      ]
     },
     "execution_count": 27,
     "metadata": {},
     "output_type": "execute_result"
    }
   ],
   "source": [
    "Y.head(3)"
   ]
  },
  {
   "cell_type": "markdown",
   "metadata": {},
   "source": [
    "#### Train-Test Split"
   ]
  },
  {
   "cell_type": "markdown",
   "metadata": {},
   "source": [
    "- Splitting dataset into train and validation data sets."
   ]
  },
  {
   "cell_type": "code",
   "execution_count": 28,
   "metadata": {
    "ExecuteTime": {
     "end_time": "2020-05-15T15:47:08.044852Z",
     "start_time": "2020-05-15T15:47:05.642153Z"
    }
   },
   "outputs": [
    {
     "name": "stdout",
     "output_type": "stream",
     "text": [
      "Train data\n",
      "xtrain:(1557, 2),ytrain:(1557,)\n",
      "-----------------------------------------------\n",
      "Test data\n",
      "xtest:(668, 2),ytest:(668,)\n"
     ]
    }
   ],
   "source": [
    "from sklearn.model_selection import train_test_split\n",
    "xtrain,xtest,ytrain,ytest=train_test_split(X,Y,test_size=0.30,stratify=Y)\n",
    "print('Train data')\n",
    "print(f\"xtrain:{xtrain.shape},ytrain:{ytrain.shape}\")\n",
    "print(\"-----------------------------------------------\")\n",
    "print('Test data')\n",
    "print(f\"xtest:{xtest.shape},ytest:{ytest.shape}\")"
   ]
  },
  {
   "cell_type": "markdown",
   "metadata": {},
   "source": [
    "### Vectorization"
   ]
  },
  {
   "cell_type": "markdown",
   "metadata": {},
   "source": [
    "- Vectorizing text features."
   ]
  },
  {
   "cell_type": "markdown",
   "metadata": {},
   "source": [
    "#### title"
   ]
  },
  {
   "cell_type": "code",
   "execution_count": 29,
   "metadata": {
    "ExecuteTime": {
     "end_time": "2020-05-15T15:47:08.850426Z",
     "start_time": "2020-05-15T15:47:08.048858Z"
    }
   },
   "outputs": [
    {
     "name": "stdout",
     "output_type": "stream",
     "text": [
      "Data after vectorization\n",
      "Train data-:(1557, 722)\n",
      "Test data-:(668, 722)\n"
     ]
    }
   ],
   "source": [
    "from sklearn.feature_extraction.text import TfidfVectorizer\n",
    "tf=TfidfVectorizer(ngram_range=(1,2),min_df=3)\n",
    "tf.fit(xtrain['title'].values)\n",
    "title_trtf=tf.transform(xtrain['title'].values)\n",
    "title_tetf=tf.transform(xtest['title'].values)\n",
    "print(\"Data after vectorization\")\n",
    "print(f\"Train data-:{title_trtf.shape}\")\n",
    "print(f\"Test data-:{title_tetf.shape}\")"
   ]
  },
  {
   "cell_type": "markdown",
   "metadata": {},
   "source": [
    "#### content"
   ]
  },
  {
   "cell_type": "code",
   "execution_count": 30,
   "metadata": {
    "ExecuteTime": {
     "end_time": "2020-05-15T15:47:13.035397Z",
     "start_time": "2020-05-15T15:47:08.853426Z"
    }
   },
   "outputs": [
    {
     "name": "stdout",
     "output_type": "stream",
     "text": [
      "Data after vectorization\n",
      "Train data-:(1557, 11359)\n",
      "Test data-:(668, 11359)\n"
     ]
    }
   ],
   "source": [
    "tf=TfidfVectorizer(ngram_range=(1,2),min_df=5)\n",
    "tf.fit(xtrain['content'].values)\n",
    "content_trtf=tf.transform(xtrain['content'].values)\n",
    "content_tetf=tf.transform(xtest['content'].values)\n",
    "print(\"Data after vectorization\")\n",
    "print(f\"Train data-:{content_trtf.shape}\")\n",
    "print(f\"Test data-:{content_tetf.shape}\")"
   ]
  },
  {
   "cell_type": "code",
   "execution_count": 31,
   "metadata": {
    "ExecuteTime": {
     "end_time": "2020-05-15T15:47:13.053409Z",
     "start_time": "2020-05-15T15:47:13.038399Z"
    }
   },
   "outputs": [
    {
     "data": {
      "text/html": [
       "<div>\n",
       "<style scoped>\n",
       "    .dataframe tbody tr th:only-of-type {\n",
       "        vertical-align: middle;\n",
       "    }\n",
       "\n",
       "    .dataframe tbody tr th {\n",
       "        vertical-align: top;\n",
       "    }\n",
       "\n",
       "    .dataframe thead th {\n",
       "        text-align: right;\n",
       "    }\n",
       "</style>\n",
       "<table border=\"1\" class=\"dataframe\">\n",
       "  <thead>\n",
       "    <tr style=\"text-align: right;\">\n",
       "      <th></th>\n",
       "      <th>content</th>\n",
       "      <th>title</th>\n",
       "    </tr>\n",
       "  </thead>\n",
       "  <tbody>\n",
       "    <tr>\n",
       "      <th>428</th>\n",
       "      <td>us trade deficit widened expected hitting reco...</td>\n",
       "      <td>us trade gap ballooned</td>\n",
       "    </tr>\n",
       "    <tr>\n",
       "      <th>1401</th>\n",
       "      <td>greek sprinter katerina thanou says eager comp...</td>\n",
       "      <td>thanou desperate make return</td>\n",
       "    </tr>\n",
       "    <tr>\n",
       "      <th>736</th>\n",
       "      <td>george michael perform live london abbey road ...</td>\n",
       "      <td>george michael perform bbc</td>\n",
       "    </tr>\n",
       "  </tbody>\n",
       "</table>\n",
       "</div>"
      ],
      "text/plain": [
       "                                                content  \\\n",
       "428   us trade deficit widened expected hitting reco...   \n",
       "1401  greek sprinter katerina thanou says eager comp...   \n",
       "736   george michael perform live london abbey road ...   \n",
       "\n",
       "                             title  \n",
       "428         us trade gap ballooned  \n",
       "1401  thanou desperate make return  \n",
       "736     george michael perform bbc  "
      ]
     },
     "execution_count": 31,
     "metadata": {},
     "output_type": "execute_result"
    }
   ],
   "source": [
    "xtrain.head(3)"
   ]
  },
  {
   "cell_type": "markdown",
   "metadata": {},
   "source": [
    "### Preparing Data Matrix"
   ]
  },
  {
   "cell_type": "code",
   "execution_count": 32,
   "metadata": {
    "ExecuteTime": {
     "end_time": "2020-05-15T15:47:13.319614Z",
     "start_time": "2020-05-15T15:47:13.056414Z"
    }
   },
   "outputs": [
    {
     "name": "stdout",
     "output_type": "stream",
     "text": [
      "Data\n",
      "Train data features-:(1557, 12081),Train data target-:(1557,)\n",
      "Test data features-:(668, 12081),Test data target-:(668,)\n"
     ]
    }
   ],
   "source": [
    "from scipy.sparse import  hstack\n",
    "\n",
    "train=hstack((title_trtf,content_trtf)).tocsr()\n",
    "test=hstack((title_tetf,content_tetf)).tocsr()\n",
    "print(\"Data\")\n",
    "print(f\"Train data features-:{train.shape},Train data target-:{ytrain.shape}\")\n",
    "print(f\"Test data features-:{test.shape},Test data target-:{ytest.shape}\")"
   ]
  },
  {
   "cell_type": "markdown",
   "metadata": {},
   "source": [
    "### Base Model"
   ]
  },
  {
   "cell_type": "code",
   "execution_count": 33,
   "metadata": {
    "ExecuteTime": {
     "end_time": "2020-05-15T15:47:13.385645Z",
     "start_time": "2020-05-15T15:47:13.322601Z"
    }
   },
   "outputs": [],
   "source": [
    "def conf_mat(data,ytrain, ytrain_pred,ytest, ytest_pred):\n",
    "    from sklearn.metrics import confusion_matrix\n",
    "\n",
    "    category_id_df = data[['category', 'category_id']].drop_duplicates().sort_values('category_id')\n",
    "    sns.set(font_scale=1.5)\n",
    "    plt.figure(figsize=(22,5))\n",
    "    plt.subplot(1,2,1)\n",
    "    conf_mat = confusion_matrix(ytrain, ytrain_pred)\n",
    "    sns.heatmap(conf_mat, annot=True, fmt='d',\n",
    "                xticklabels=category_id_df.category.values, yticklabels=category_id_df.category.values)\n",
    "    plt.title('Train')\n",
    "    plt.ylabel('Actual')\n",
    "    plt.xlabel('Predicted')\n",
    "\n",
    "    plt.subplot(1,2,2)\n",
    "    conf_mat = confusion_matrix(ytest, ytest_pred)\n",
    "    sns.heatmap(conf_mat, annot=True, fmt='d',\n",
    "                xticklabels=category_id_df.category.values, yticklabels=category_id_df.category.values)\n",
    "    plt.title('Test')\n",
    "    plt.ylabel('Actual')\n",
    "    plt.xlabel('Predicted')"
   ]
  },
  {
   "cell_type": "markdown",
   "metadata": {},
   "source": [
    "#### Logistic Regression"
   ]
  },
  {
   "cell_type": "code",
   "execution_count": 34,
   "metadata": {
    "ExecuteTime": {
     "end_time": "2020-05-15T15:47:13.539756Z",
     "start_time": "2020-05-15T15:47:13.388650Z"
    }
   },
   "outputs": [
    {
     "data": {
      "text/plain": [
       "category       category_id\n",
       "business       0              510\n",
       "entertainment  1              386\n",
       "politics       2              417\n",
       "sport          3              511\n",
       "tech           4              401\n",
       "dtype: int64"
      ]
     },
     "execution_count": 34,
     "metadata": {},
     "output_type": "execute_result"
    }
   ],
   "source": [
    "bbc_data.groupby(['category','category_id']).size()"
   ]
  },
  {
   "cell_type": "code",
   "execution_count": 35,
   "metadata": {
    "ExecuteTime": {
     "end_time": "2020-05-15T15:47:15.748324Z",
     "start_time": "2020-05-15T15:47:13.543757Z"
    }
   },
   "outputs": [
    {
     "name": "stdout",
     "output_type": "stream",
     "text": [
      "business:0,entertainment:1,politics:2,sport:3,tech:4\n",
      "-------------------------------------------------------------------------\n",
      "Train report\n",
      "              precision    recall  f1-score   support\n",
      "\n",
      "           0       1.00      0.99      1.00       357\n",
      "           1       1.00      1.00      1.00       270\n",
      "           2       0.99      1.00      1.00       292\n",
      "           3       1.00      1.00      1.00       357\n",
      "           4       1.00      0.99      0.99       281\n",
      "\n",
      "    accuracy                           1.00      1557\n",
      "   macro avg       1.00      1.00      1.00      1557\n",
      "weighted avg       1.00      1.00      1.00      1557\n",
      "\n",
      "-------------------------------------------------------------------------\n",
      "Test report\n",
      "              precision    recall  f1-score   support\n",
      "\n",
      "           0       0.95      0.95      0.95       153\n",
      "           1       0.97      0.93      0.95       116\n",
      "           2       0.95      0.99      0.97       125\n",
      "           3       0.97      1.00      0.99       154\n",
      "           4       0.99      0.95      0.97       120\n",
      "\n",
      "    accuracy                           0.97       668\n",
      "   macro avg       0.97      0.96      0.97       668\n",
      "weighted avg       0.97      0.97      0.97       668\n",
      "\n"
     ]
    }
   ],
   "source": [
    "from sklearn.linear_model import LogisticRegression\n",
    "from sklearn.multiclass import OneVsRestClassifier\n",
    "from sklearn.metrics import classification_report,confusion_matrix\n",
    "\n",
    "lgr=LogisticRegression()\n",
    "ovr=OneVsRestClassifier(lgr)\n",
    "ovr.fit(train,ytrain)\n",
    "ytrain_pred=ovr.predict(train)\n",
    "ytest_pred=ovr.predict(test)\n",
    "print('business:0,entertainment:1,politics:2,sport:3,tech:4')\n",
    "print('-------------------------------------------------------------------------')\n",
    "print('Train report')\n",
    "print(classification_report(ytrain,ytrain_pred))\n",
    "print(\"-------------------------------------------------------------------------\")\n",
    "print('Test report')\n",
    "print(classification_report(ytest,ytest_pred))"
   ]
  },
  {
   "cell_type": "code",
   "execution_count": 36,
   "metadata": {
    "ExecuteTime": {
     "end_time": "2020-05-15T15:47:16.685989Z",
     "start_time": "2020-05-15T15:47:15.751327Z"
    }
   },
   "outputs": [
    {
     "data": {
      "image/png": "[encoded data removed]",
      "text/plain": [
       "<Figure size 1584x360 with 4 Axes>"
      ]
     },
     "metadata": {},
     "output_type": "display_data"
    }
   ],
   "source": [
    "conf_mat(bbc_data,ytrain, ytrain_pred,ytest, ytest_pred)"
   ]
  },
  {
   "cell_type": "markdown",
   "metadata": {},
   "source": [
    "**Observations:**"
   ]
  },
  {
   "cell_type": "markdown",
   "metadata": {},
   "source": [
    "- The model provides 100% F1 score and accuraccy on train data,while 97% F1 score and accuraccy on test/validation data.\n",
    "- Eventhough the model is showing signs of overfit with 100% accuraccy on train data,it is providing good performance on tets data as well."
   ]
  },
  {
   "cell_type": "markdown",
   "metadata": {},
   "source": [
    "#### SVM"
   ]
  },
  {
   "cell_type": "code",
   "execution_count": 37,
   "metadata": {
    "ExecuteTime": {
     "end_time": "2020-05-15T15:47:17.049264Z",
     "start_time": "2020-05-15T15:47:16.689992Z"
    }
   },
   "outputs": [
    {
     "name": "stdout",
     "output_type": "stream",
     "text": [
      "business:0,entertainment:1,politics:2,sport:3,tech:4\n",
      "-------------------------------------------------------------------------\n",
      "Train report\n",
      "              precision    recall  f1-score   support\n",
      "\n",
      "           0       1.00      1.00      1.00       357\n",
      "           1       1.00      1.00      1.00       270\n",
      "           2       1.00      1.00      1.00       292\n",
      "           3       1.00      1.00      1.00       357\n",
      "           4       1.00      1.00      1.00       281\n",
      "\n",
      "    accuracy                           1.00      1557\n",
      "   macro avg       1.00      1.00      1.00      1557\n",
      "weighted avg       1.00      1.00      1.00      1557\n",
      "\n",
      "-------------------------------------------------------------------------\n",
      "Test report\n",
      "              precision    recall  f1-score   support\n",
      "\n",
      "           0       0.97      0.97      0.97       153\n",
      "           1       0.97      0.95      0.96       116\n",
      "           2       0.98      0.99      0.99       125\n",
      "           3       0.99      1.00      0.99       154\n",
      "           4       0.97      0.97      0.97       120\n",
      "\n",
      "    accuracy                           0.98       668\n",
      "   macro avg       0.98      0.97      0.98       668\n",
      "weighted avg       0.98      0.98      0.98       668\n",
      "\n"
     ]
    }
   ],
   "source": [
    "from sklearn.svm import LinearSVC\n",
    "sm=LinearSVC(loss='squared_hinge')\n",
    "ovr_svm=OneVsRestClassifier(sm)\n",
    "ovr_svm.fit(train,ytrain)\n",
    "ytrain_pred=ovr_svm.predict(train)\n",
    "ytest_pred=ovr_svm.predict(test)\n",
    "print('business:0,entertainment:1,politics:2,sport:3,tech:4')\n",
    "print('-------------------------------------------------------------------------')\n",
    "print('Train report')\n",
    "print(classification_report(ytrain,ytrain_pred))\n",
    "print(\"-------------------------------------------------------------------------\")\n",
    "print('Test report')\n",
    "print(classification_report(ytest,ytest_pred))"
   ]
  },
  {
   "cell_type": "code",
   "execution_count": 38,
   "metadata": {
    "ExecuteTime": {
     "end_time": "2020-05-15T15:47:17.907859Z",
     "start_time": "2020-05-15T15:47:17.052253Z"
    }
   },
   "outputs": [
    {
     "data": {
      "image/png": "[encoded data removed]",
      "text/plain": [
       "<Figure size 1584x360 with 4 Axes>"
      ]
     },
     "metadata": {},
     "output_type": "display_data"
    }
   ],
   "source": [
    "conf_mat(bbc_data,ytrain, ytrain_pred,ytest, ytest_pred)"
   ]
  },
  {
   "cell_type": "markdown",
   "metadata": {},
   "source": [
    "**Observations:**"
   ]
  },
  {
   "cell_type": "markdown",
   "metadata": {
    "ExecuteTime": {
     "end_time": "2020-05-19T10:56:48.682206Z",
     "start_time": "2020-05-19T10:56:48.675200Z"
    }
   },
   "source": [
    "- The model provides 100% F1 score and accuraccy on train data,while 98% F1 score and accuraccy on test/validation data.\n",
    "- Eventhough the model is showing signs of overfit with 100% accuraccy on train data,it is providing good performance on test data as well.\n",
    "- High precision and recall suggest that the model is capable of generalizing validation dataset."
   ]
  },
  {
   "cell_type": "markdown",
   "metadata": {},
   "source": [
    "#### Random Forest classification"
   ]
  },
  {
   "cell_type": "code",
   "execution_count": 39,
   "metadata": {
    "ExecuteTime": {
     "end_time": "2020-05-15T15:47:26.699104Z",
     "start_time": "2020-05-15T15:47:17.910860Z"
    }
   },
   "outputs": [
    {
     "name": "stdout",
     "output_type": "stream",
     "text": [
      "business:0,entertainment:1,politics:2,sport:3,tech:4\n",
      "-------------------------------------------------------------------------\n",
      "Train report\n",
      "              precision    recall  f1-score   support\n",
      "\n",
      "           0       1.00      1.00      1.00       357\n",
      "           1       1.00      1.00      1.00       270\n",
      "           2       1.00      1.00      1.00       292\n",
      "           3       1.00      1.00      1.00       357\n",
      "           4       1.00      1.00      1.00       281\n",
      "\n",
      "    accuracy                           1.00      1557\n",
      "   macro avg       1.00      1.00      1.00      1557\n",
      "weighted avg       1.00      1.00      1.00      1557\n",
      "\n",
      "-------------------------------------------------------------------------\n",
      "Test report\n",
      "              precision    recall  f1-score   support\n",
      "\n",
      "           0       0.95      0.96      0.96       153\n",
      "           1       0.98      0.97      0.97       116\n",
      "           2       0.98      1.00      0.99       125\n",
      "           3       0.98      1.00      0.99       154\n",
      "           4       0.98      0.95      0.97       120\n",
      "\n",
      "    accuracy                           0.98       668\n",
      "   macro avg       0.98      0.98      0.98       668\n",
      "weighted avg       0.98      0.98      0.98       668\n",
      "\n"
     ]
    }
   ],
   "source": [
    "from sklearn.ensemble import RandomForestClassifier\n",
    "rf=RandomForestClassifier()\n",
    "ovr_rf=OneVsRestClassifier(rf)\n",
    "ovr_rf.fit(train,ytrain)\n",
    "ytrain_pred=ovr_rf.predict(train)\n",
    "ytest_pred=ovr_rf.predict(test)\n",
    "print('business:0,entertainment:1,politics:2,sport:3,tech:4')\n",
    "print('-------------------------------------------------------------------------')\n",
    "print('Train report')\n",
    "print(classification_report(ytrain,ytrain_pred))\n",
    "print(\"-------------------------------------------------------------------------\")\n",
    "print('Test report')\n",
    "print(classification_report(ytest,ytest_pred))"
   ]
  },
  {
   "cell_type": "code",
   "execution_count": 40,
   "metadata": {
    "ExecuteTime": {
     "end_time": "2020-05-15T15:47:27.553711Z",
     "start_time": "2020-05-15T15:47:26.702106Z"
    }
   },
   "outputs": [
    {
     "data": {
      "image/png": "[encoded data removed]",
      "text/plain": [
       "<Figure size 1584x360 with 4 Axes>"
      ]
     },
     "metadata": {},
     "output_type": "display_data"
    }
   ],
   "source": [
    "conf_mat(bbc_data,ytrain, ytrain_pred,ytest, ytest_pred)"
   ]
  },
  {
   "cell_type": "markdown",
   "metadata": {},
   "source": [
    "**Observations:**"
   ]
  },
  {
   "cell_type": "markdown",
   "metadata": {},
   "source": [
    "- As the previous model,RandomForest model is also able to generalize the test data.\n",
    "- High F1 score suggest that there is a verygood balance between precision and recall.\n",
    "- All models are performing verywell on train data and validation/test data.This miight be due to the fact that,\n",
    "    - There are very few data points available.Which makes our model to overfit on data.This cause high accuraccy on train data.\n",
    "    - both the train and validation set article belongs to bbc.Hence,the language structure of the articles may be the same.Which cause train and test data to be in similar to nature.And hence,high accuraccy on test data too.\n",
    "    - To understand the behaviour of the model,we can cross check it with evaluation data collected from other sources."
   ]
  },
  {
   "cell_type": "markdown",
   "metadata": {},
   "source": [
    "#### Test on Evaluation dataset-(Data scrapped from sources other than bbc)"
   ]
  },
  {
   "cell_type": "markdown",
   "metadata": {},
   "source": [
    "##### Load Evaluaton data"
   ]
  },
  {
   "cell_type": "markdown",
   "metadata": {},
   "source": [
    "- Creating evaluation dataset,with articles collected fromm inshorts.com"
   ]
  },
  {
   "cell_type": "code",
   "execution_count": 41,
   "metadata": {
    "ExecuteTime": {
     "end_time": "2020-05-15T15:47:28.244218Z",
     "start_time": "2020-05-15T15:47:27.556712Z"
    }
   },
   "outputs": [
    {
     "data": {
      "text/html": [
       "<div>\n",
       "<style scoped>\n",
       "    .dataframe tbody tr th:only-of-type {\n",
       "        vertical-align: middle;\n",
       "    }\n",
       "\n",
       "    .dataframe tbody tr th {\n",
       "        vertical-align: top;\n",
       "    }\n",
       "\n",
       "    .dataframe thead th {\n",
       "        text-align: right;\n",
       "    }\n",
       "</style>\n",
       "<table border=\"1\" class=\"dataframe\">\n",
       "  <thead>\n",
       "    <tr style=\"text-align: right;\">\n",
       "      <th></th>\n",
       "      <th>Unnamed: 0</th>\n",
       "      <th>title</th>\n",
       "      <th>story</th>\n",
       "      <th>Category</th>\n",
       "    </tr>\n",
       "  </thead>\n",
       "  <tbody>\n",
       "    <tr>\n",
       "      <th>0</th>\n",
       "      <td>0</td>\n",
       "      <td>Pawar writes to PM on COVID-19 impact on Mahar...</td>\n",
       "      <td>NCP chief Sharad Pawar on Saturday wrote to PM...</td>\n",
       "      <td>politics</td>\n",
       "    </tr>\n",
       "    <tr>\n",
       "      <th>1</th>\n",
       "      <td>1</td>\n",
       "      <td>Governor's rule imposed in Assam's Bodoland Te...</td>\n",
       "      <td>Governor's rule was imposed in Assam's Bodolan...</td>\n",
       "      <td>politics</td>\n",
       "    </tr>\n",
       "    <tr>\n",
       "      <th>2</th>\n",
       "      <td>2</td>\n",
       "      <td>Sonia writes to PM, suggests 5 steps to help M...</td>\n",
       "      <td>Congress interim chief Sonia Gandhi has writte...</td>\n",
       "      <td>politics</td>\n",
       "    </tr>\n",
       "    <tr>\n",
       "      <th>3</th>\n",
       "      <td>3</td>\n",
       "      <td>Don't get revenue just by starting wine shops:...</td>\n",
       "      <td>Shiv Sena took a dig at MNS chief Raj Thackera...</td>\n",
       "      <td>politics</td>\n",
       "    </tr>\n",
       "    <tr>\n",
       "      <th>4</th>\n",
       "      <td>4</td>\n",
       "      <td>COVID-19 situation is bad in Agra: Priyanka sh...</td>\n",
       "      <td>Congress leader Priyanka Gandhi Vadra on Sunda...</td>\n",
       "      <td>politics</td>\n",
       "    </tr>\n",
       "  </tbody>\n",
       "</table>\n",
       "</div>"
      ],
      "text/plain": [
       "   Unnamed: 0                                              title  \\\n",
       "0           0  Pawar writes to PM on COVID-19 impact on Mahar...   \n",
       "1           1  Governor's rule imposed in Assam's Bodoland Te...   \n",
       "2           2  Sonia writes to PM, suggests 5 steps to help M...   \n",
       "3           3  Don't get revenue just by starting wine shops:...   \n",
       "4           4  COVID-19 situation is bad in Agra: Priyanka sh...   \n",
       "\n",
       "                                               story  Category  \n",
       "0  NCP chief Sharad Pawar on Saturday wrote to PM...  politics  \n",
       "1  Governor's rule was imposed in Assam's Bodolan...  politics  \n",
       "2  Congress interim chief Sonia Gandhi has writte...  politics  \n",
       "3  Shiv Sena took a dig at MNS chief Raj Thackera...  politics  \n",
       "4  Congress leader Priyanka Gandhi Vadra on Sunda...  politics  "
      ]
     },
     "execution_count": 41,
     "metadata": {},
     "output_type": "execute_result"
    }
   ],
   "source": [
    "eval_data=pd.read_excel(r\"C:\\Users\\DELL\\Desktop\\A6\\news_classification\\inshorts_data.xlsx\")\n",
    "eval_data.head()"
   ]
  },
  {
   "cell_type": "code",
   "execution_count": 42,
   "metadata": {
    "ExecuteTime": {
     "end_time": "2020-05-15T15:47:28.254210Z",
     "start_time": "2020-05-15T15:47:28.247203Z"
    }
   },
   "outputs": [
    {
     "data": {
      "text/plain": [
       "Index(['Unnamed: 0', 'title', 'story', 'Category'], dtype='object')"
      ]
     },
     "execution_count": 42,
     "metadata": {},
     "output_type": "execute_result"
    }
   ],
   "source": [
    "eval_data.columns"
   ]
  },
  {
   "cell_type": "code",
   "execution_count": 43,
   "metadata": {
    "ExecuteTime": {
     "end_time": "2020-05-15T15:47:28.520405Z",
     "start_time": "2020-05-15T15:47:28.257211Z"
    }
   },
   "outputs": [
    {
     "data": {
      "text/html": [
       "<div>\n",
       "<style scoped>\n",
       "    .dataframe tbody tr th:only-of-type {\n",
       "        vertical-align: middle;\n",
       "    }\n",
       "\n",
       "    .dataframe tbody tr th {\n",
       "        vertical-align: top;\n",
       "    }\n",
       "\n",
       "    .dataframe thead th {\n",
       "        text-align: right;\n",
       "    }\n",
       "</style>\n",
       "<table border=\"1\" class=\"dataframe\">\n",
       "  <thead>\n",
       "    <tr style=\"text-align: right;\">\n",
       "      <th></th>\n",
       "      <th>title</th>\n",
       "      <th>content</th>\n",
       "      <th>category</th>\n",
       "    </tr>\n",
       "  </thead>\n",
       "  <tbody>\n",
       "    <tr>\n",
       "      <th>0</th>\n",
       "      <td>Pawar writes to PM on COVID-19 impact on Mahar...</td>\n",
       "      <td>NCP chief Sharad Pawar on Saturday wrote to PM...</td>\n",
       "      <td>politics</td>\n",
       "    </tr>\n",
       "    <tr>\n",
       "      <th>1</th>\n",
       "      <td>Governor's rule imposed in Assam's Bodoland Te...</td>\n",
       "      <td>Governor's rule was imposed in Assam's Bodolan...</td>\n",
       "      <td>politics</td>\n",
       "    </tr>\n",
       "    <tr>\n",
       "      <th>2</th>\n",
       "      <td>Sonia writes to PM, suggests 5 steps to help M...</td>\n",
       "      <td>Congress interim chief Sonia Gandhi has writte...</td>\n",
       "      <td>politics</td>\n",
       "    </tr>\n",
       "  </tbody>\n",
       "</table>\n",
       "</div>"
      ],
      "text/plain": [
       "                                               title  \\\n",
       "0  Pawar writes to PM on COVID-19 impact on Mahar...   \n",
       "1  Governor's rule imposed in Assam's Bodoland Te...   \n",
       "2  Sonia writes to PM, suggests 5 steps to help M...   \n",
       "\n",
       "                                             content  category  \n",
       "0  NCP chief Sharad Pawar on Saturday wrote to PM...  politics  \n",
       "1  Governor's rule was imposed in Assam's Bodolan...  politics  \n",
       "2  Congress interim chief Sonia Gandhi has writte...  politics  "
      ]
     },
     "execution_count": 43,
     "metadata": {},
     "output_type": "execute_result"
    }
   ],
   "source": [
    "eval_data.rename({'Category':'category','story':'content'},axis=1,inplace=True)\n",
    "eval_data=eval_data.iloc[:,eval_data.columns!='Unnamed: 0']\n",
    "eval_data.head(3)"
   ]
  },
  {
   "cell_type": "code",
   "execution_count": 44,
   "metadata": {
    "ExecuteTime": {
     "end_time": "2020-05-15T15:47:28.722571Z",
     "start_time": "2020-05-15T15:47:28.524400Z"
    }
   },
   "outputs": [
    {
     "data": {
      "text/plain": [
       "array(['politics', 'sports', 'technology', 'business', 'entertainment'],\n",
       "      dtype=object)"
      ]
     },
     "execution_count": 44,
     "metadata": {},
     "output_type": "execute_result"
    }
   ],
   "source": [
    "eval_data.category.unique()"
   ]
  },
  {
   "cell_type": "code",
   "execution_count": 45,
   "metadata": {
    "ExecuteTime": {
     "end_time": "2020-05-15T15:47:28.986730Z",
     "start_time": "2020-05-15T15:47:28.730548Z"
    }
   },
   "outputs": [],
   "source": [
    "eval_data.category[eval_data.category=='technology']='tech'"
   ]
  },
  {
   "cell_type": "code",
   "execution_count": 46,
   "metadata": {
    "ExecuteTime": {
     "end_time": "2020-05-15T15:47:29.288945Z",
     "start_time": "2020-05-15T15:47:28.988732Z"
    }
   },
   "outputs": [
    {
     "data": {
      "text/plain": [
       "array(['politics', 'sports', 'tech', 'business', 'entertainment'],\n",
       "      dtype=object)"
      ]
     },
     "execution_count": 46,
     "metadata": {},
     "output_type": "execute_result"
    }
   ],
   "source": [
    "eval_data.category.unique()"
   ]
  },
  {
   "cell_type": "code",
   "execution_count": 47,
   "metadata": {
    "ExecuteTime": {
     "end_time": "2020-05-15T15:47:29.584181Z",
     "start_time": "2020-05-15T15:47:29.296951Z"
    }
   },
   "outputs": [
    {
     "data": {
      "text/html": [
       "<div>\n",
       "<style scoped>\n",
       "    .dataframe tbody tr th:only-of-type {\n",
       "        vertical-align: middle;\n",
       "    }\n",
       "\n",
       "    .dataframe tbody tr th {\n",
       "        vertical-align: top;\n",
       "    }\n",
       "\n",
       "    .dataframe thead th {\n",
       "        text-align: right;\n",
       "    }\n",
       "</style>\n",
       "<table border=\"1\" class=\"dataframe\">\n",
       "  <thead>\n",
       "    <tr style=\"text-align: right;\">\n",
       "      <th></th>\n",
       "      <th>title</th>\n",
       "      <th>content</th>\n",
       "      <th>category</th>\n",
       "    </tr>\n",
       "  </thead>\n",
       "  <tbody>\n",
       "    <tr>\n",
       "      <th>0</th>\n",
       "      <td>Pawar writes to PM on COVID-19 impact on Mahar...</td>\n",
       "      <td>NCP chief Sharad Pawar on Saturday wrote to PM...</td>\n",
       "      <td>politics</td>\n",
       "    </tr>\n",
       "    <tr>\n",
       "      <th>1</th>\n",
       "      <td>Governor's rule imposed in Assam's Bodoland Te...</td>\n",
       "      <td>Governor's rule was imposed in Assam's Bodolan...</td>\n",
       "      <td>politics</td>\n",
       "    </tr>\n",
       "    <tr>\n",
       "      <th>2</th>\n",
       "      <td>Sonia writes to PM, suggests 5 steps to help M...</td>\n",
       "      <td>Congress interim chief Sonia Gandhi has writte...</td>\n",
       "      <td>politics</td>\n",
       "    </tr>\n",
       "  </tbody>\n",
       "</table>\n",
       "</div>"
      ],
      "text/plain": [
       "                                               title  \\\n",
       "0  Pawar writes to PM on COVID-19 impact on Mahar...   \n",
       "1  Governor's rule imposed in Assam's Bodoland Te...   \n",
       "2  Sonia writes to PM, suggests 5 steps to help M...   \n",
       "\n",
       "                                             content  category  \n",
       "0  NCP chief Sharad Pawar on Saturday wrote to PM...  politics  \n",
       "1  Governor's rule was imposed in Assam's Bodolan...  politics  \n",
       "2  Congress interim chief Sonia Gandhi has writte...  politics  "
      ]
     },
     "execution_count": 47,
     "metadata": {},
     "output_type": "execute_result"
    }
   ],
   "source": [
    "eval_data.head(3)"
   ]
  },
  {
   "cell_type": "markdown",
   "metadata": {},
   "source": [
    "##### Evaluation data overview"
   ]
  },
  {
   "cell_type": "code",
   "execution_count": 48,
   "metadata": {
    "ExecuteTime": {
     "end_time": "2020-05-15T15:47:29.827342Z",
     "start_time": "2020-05-15T15:47:29.591160Z"
    }
   },
   "outputs": [
    {
     "data": {
      "text/plain": [
       "(123, 3)"
      ]
     },
     "execution_count": 48,
     "metadata": {},
     "output_type": "execute_result"
    }
   ],
   "source": [
    "eval_data.shape"
   ]
  },
  {
   "cell_type": "code",
   "execution_count": 49,
   "metadata": {
    "ExecuteTime": {
     "end_time": "2020-05-15T15:47:29.980442Z",
     "start_time": "2020-05-15T15:47:29.831329Z"
    }
   },
   "outputs": [
    {
     "name": "stdout",
     "output_type": "stream",
     "text": [
      "<class 'pandas.core.frame.DataFrame'>\n",
      "RangeIndex: 123 entries, 0 to 122\n",
      "Data columns (total 3 columns):\n",
      "title       123 non-null object\n",
      "content     123 non-null object\n",
      "category    123 non-null object\n",
      "dtypes: object(3)\n",
      "memory usage: 3.0+ KB\n"
     ]
    }
   ],
   "source": [
    "eval_data.info()"
   ]
  },
  {
   "cell_type": "markdown",
   "metadata": {},
   "source": [
    "##### Null value Treatment"
   ]
  },
  {
   "cell_type": "code",
   "execution_count": 50,
   "metadata": {
    "ExecuteTime": {
     "end_time": "2020-05-15T15:47:30.125539Z",
     "start_time": "2020-05-15T15:47:29.989444Z"
    }
   },
   "outputs": [
    {
     "data": {
      "text/plain": [
       "title       0\n",
       "content     0\n",
       "category    0\n",
       "dtype: int64"
      ]
     },
     "execution_count": 50,
     "metadata": {},
     "output_type": "execute_result"
    }
   ],
   "source": [
    "eval_data.isna().sum()"
   ]
  },
  {
   "cell_type": "markdown",
   "metadata": {},
   "source": [
    "##### Evaluation data basic statistics"
   ]
  },
  {
   "cell_type": "code",
   "execution_count": 51,
   "metadata": {
    "ExecuteTime": {
     "end_time": "2020-05-15T15:47:30.302665Z",
     "start_time": "2020-05-15T15:47:30.132572Z"
    }
   },
   "outputs": [
    {
     "data": {
      "text/plain": [
       "sports           25\n",
       "politics         25\n",
       "business         25\n",
       "entertainment    24\n",
       "tech             24\n",
       "Name: category, dtype: int64"
      ]
     },
     "execution_count": 51,
     "metadata": {},
     "output_type": "execute_result"
    }
   ],
   "source": [
    "eval_data['category'].value_counts()"
   ]
  },
  {
   "cell_type": "markdown",
   "metadata": {},
   "source": [
    "**Observations:**"
   ]
  },
  {
   "cell_type": "markdown",
   "metadata": {},
   "source": [
    "- All the categories are almost same number of samples."
   ]
  },
  {
   "cell_type": "markdown",
   "metadata": {},
   "source": [
    "##### Labeling  Target column"
   ]
  },
  {
   "cell_type": "markdown",
   "metadata": {},
   "source": [
    "- Labelling target classes with numericals."
   ]
  },
  {
   "cell_type": "code",
   "execution_count": 52,
   "metadata": {
    "ExecuteTime": {
     "end_time": "2020-05-15T15:47:30.542849Z",
     "start_time": "2020-05-15T15:47:30.311671Z"
    }
   },
   "outputs": [],
   "source": [
    "#labeling the target variable from hold out dataset\n",
    "eval_data['category_id']=eval_data['category'].values\n",
    "eval_data.category_id[eval_data.category_id=='business']=0\n",
    "eval_data.category_id[eval_data.category_id=='entertainment']=1\n",
    "eval_data.category_id[eval_data.category_id=='politics']=2\n",
    "eval_data.category_id[eval_data.category_id=='sports']=3\n",
    "eval_data.category_id[eval_data.category_id=='tech']=4"
   ]
  },
  {
   "cell_type": "code",
   "execution_count": 53,
   "metadata": {
    "ExecuteTime": {
     "end_time": "2020-05-15T15:47:30.748981Z",
     "start_time": "2020-05-15T15:47:30.544845Z"
    }
   },
   "outputs": [
    {
     "data": {
      "text/plain": [
       "array([2, 3, 4, 0, 1], dtype=object)"
      ]
     },
     "execution_count": 53,
     "metadata": {},
     "output_type": "execute_result"
    }
   ],
   "source": [
    "eval_data['category_id'].unique()"
   ]
  },
  {
   "cell_type": "code",
   "execution_count": 54,
   "metadata": {
    "ExecuteTime": {
     "end_time": "2020-05-15T15:47:30.952126Z",
     "start_time": "2020-05-15T15:47:30.755988Z"
    }
   },
   "outputs": [
    {
     "data": {
      "text/plain": [
       "array([2, 3, 4, 0, 1], dtype=int64)"
      ]
     },
     "execution_count": 54,
     "metadata": {},
     "output_type": "execute_result"
    }
   ],
   "source": [
    "eval_data['category_id']=eval_data['category_id'].astype('int')\n",
    "eval_data['category_id'].unique()"
   ]
  },
  {
   "cell_type": "markdown",
   "metadata": {},
   "source": [
    "##### Text Preprocessing"
   ]
  },
  {
   "cell_type": "markdown",
   "metadata": {},
   "source": [
    "- Normalizing the text features."
   ]
  },
  {
   "cell_type": "markdown",
   "metadata": {},
   "source": [
    "###### title"
   ]
  },
  {
   "cell_type": "code",
   "execution_count": 55,
   "metadata": {
    "ExecuteTime": {
     "end_time": "2020-05-15T15:47:31.145278Z",
     "start_time": "2020-05-15T15:47:30.960138Z"
    }
   },
   "outputs": [
    {
     "name": "stderr",
     "output_type": "stream",
     "text": [
      "100%|██████████████████████████████████████| 123/123 [00:00<00:00, 1684.14it/s]\n"
     ]
    }
   ],
   "source": [
    "from tqdm import tqdm\n",
    "clean_titles = []\n",
    "for title in tqdm(eval_data['title'].values):\n",
    "    clean_title = clean_text(title)\n",
    "    clean_titles.append(clean_title)\n",
    "eval_data['title']=clean_titles"
   ]
  },
  {
   "cell_type": "markdown",
   "metadata": {},
   "source": [
    "###### content"
   ]
  },
  {
   "cell_type": "code",
   "execution_count": 56,
   "metadata": {
    "ExecuteTime": {
     "end_time": "2020-05-15T15:47:31.284362Z",
     "start_time": "2020-05-15T15:47:31.148263Z"
    }
   },
   "outputs": [
    {
     "name": "stderr",
     "output_type": "stream",
     "text": [
      "100%|██████████████████████████████████████| 123/123 [00:00<00:00, 1950.99it/s]\n"
     ]
    }
   ],
   "source": [
    "from tqdm import tqdm\n",
    "clean_contents = []\n",
    "for content in tqdm(eval_data['content'].values):\n",
    "    clean_content = clean_text(content)\n",
    "    clean_contents.append(clean_content)\n",
    "eval_data['content']=clean_contents"
   ]
  },
  {
   "cell_type": "markdown",
   "metadata": {},
   "source": [
    "##### Vectorization"
   ]
  },
  {
   "cell_type": "markdown",
   "metadata": {},
   "source": [
    "###### title"
   ]
  },
  {
   "cell_type": "code",
   "execution_count": 57,
   "metadata": {
    "ExecuteTime": {
     "end_time": "2020-05-15T15:47:31.500514Z",
     "start_time": "2020-05-15T15:47:31.287363Z"
    }
   },
   "outputs": [
    {
     "name": "stdout",
     "output_type": "stream",
     "text": [
      "Data after vectorization\n",
      "Test data-:(123, 722)\n"
     ]
    }
   ],
   "source": [
    "from sklearn.feature_extraction.text import TfidfVectorizer\n",
    "tf=TfidfVectorizer(ngram_range=(1,2),min_df=3)\n",
    "tf.fit(xtrain['title'].values)\n",
    "title_evaltf=tf.transform(eval_data['title'].values)\n",
    "print(\"Data after vectorization\")\n",
    "print(f\"Test data-:{title_evaltf.shape}\")"
   ]
  },
  {
   "cell_type": "markdown",
   "metadata": {},
   "source": [
    "###### content"
   ]
  },
  {
   "cell_type": "code",
   "execution_count": 58,
   "metadata": {
    "ExecuteTime": {
     "end_time": "2020-05-15T15:47:33.995286Z",
     "start_time": "2020-05-15T15:47:31.504517Z"
    }
   },
   "outputs": [
    {
     "name": "stdout",
     "output_type": "stream",
     "text": [
      "Data after vectorization\n",
      "Test data-:(123, 11359)\n"
     ]
    }
   ],
   "source": [
    "tf=TfidfVectorizer(ngram_range=(1,2),min_df=5)\n",
    "tf.fit(xtrain['content'].values)\n",
    "content_evaltf=tf.transform(eval_data['content'].values)\n",
    "print(\"Data after vectorization\")\n",
    "print(f\"Test data-:{content_evaltf.shape}\")"
   ]
  },
  {
   "cell_type": "markdown",
   "metadata": {},
   "source": [
    "##### Prepare Evaluation Data Matrix"
   ]
  },
  {
   "cell_type": "code",
   "execution_count": 59,
   "metadata": {
    "ExecuteTime": {
     "end_time": "2020-05-15T15:47:34.013299Z",
     "start_time": "2020-05-15T15:47:33.998288Z"
    }
   },
   "outputs": [
    {
     "name": "stdout",
     "output_type": "stream",
     "text": [
      "Data\n",
      "Evaluation data features-:(123, 12081),Evaluation data target-:(123,)\n"
     ]
    }
   ],
   "source": [
    "evaluation=hstack((title_evaltf,content_evaltf)).tocsr()\n",
    "yeval=eval_data['category_id']\n",
    "print(\"Data\")\n",
    "print(f\"Evaluation data features-:{evaluation.shape},Evaluation data target-:{yeval.shape}\")"
   ]
  },
  {
   "cell_type": "markdown",
   "metadata": {},
   "source": [
    "##### Random Forest_Evaluation data"
   ]
  },
  {
   "cell_type": "code",
   "execution_count": 60,
   "metadata": {
    "ExecuteTime": {
     "end_time": "2020-05-15T15:47:40.385826Z",
     "start_time": "2020-05-15T15:47:34.016301Z"
    }
   },
   "outputs": [
    {
     "name": "stdout",
     "output_type": "stream",
     "text": [
      "business:0,entertainment:1,politics:2,sport:3,tech:4\n",
      "-------------------------------------------------------------------------\n",
      "Train report\n",
      "              precision    recall  f1-score   support\n",
      "\n",
      "           0       1.00      1.00      1.00       357\n",
      "           1       1.00      1.00      1.00       270\n",
      "           2       1.00      1.00      1.00       292\n",
      "           3       1.00      1.00      1.00       357\n",
      "           4       1.00      1.00      1.00       281\n",
      "\n",
      "    accuracy                           1.00      1557\n",
      "   macro avg       1.00      1.00      1.00      1557\n",
      "weighted avg       1.00      1.00      1.00      1557\n",
      "\n",
      "-------------------------------------------------------------------------\n",
      "Test report\n",
      "              precision    recall  f1-score   support\n",
      "\n",
      "           0       0.58      0.88      0.70        25\n",
      "           1       0.77      0.96      0.85        24\n",
      "           2       1.00      0.60      0.75        25\n",
      "           3       0.85      0.92      0.88        25\n",
      "           4       0.85      0.46      0.59        24\n",
      "\n",
      "    accuracy                           0.76       123\n",
      "   macro avg       0.81      0.76      0.76       123\n",
      "weighted avg       0.81      0.76      0.76       123\n",
      "\n"
     ]
    }
   ],
   "source": [
    "from sklearn.ensemble import RandomForestClassifier\n",
    "rf=RandomForestClassifier()\n",
    "ovr_rf=OneVsRestClassifier(rf)\n",
    "ovr_rf.fit(train,ytrain)\n",
    "ytrain_pred=ovr_rf.predict(train)\n",
    "yeval_pred=ovr_rf.predict(evaluation)\n",
    "print('business:0,entertainment:1,politics:2,sport:3,tech:4')\n",
    "print('-------------------------------------------------------------------------')\n",
    "print('Train report')\n",
    "print(classification_report(ytrain,ytrain_pred))\n",
    "print(\"-------------------------------------------------------------------------\")\n",
    "print('Test report')\n",
    "print(classification_report(yeval,yeval_pred))"
   ]
  },
  {
   "cell_type": "markdown",
   "metadata": {},
   "source": [
    "**Observations:**"
   ]
  },
  {
   "cell_type": "markdown",
   "metadata": {},
   "source": [
    "- RandomForest base model is providing 100%percent accuraccy and F1score for train ,but 76% for evaluation data.\n",
    "- Clearly the model is overfiited.\n",
    "- Low precision of 0.58 for business suggests that,among the predicted articles to be of business category only 58%are true.\n",
    "- Low recall of 0.46 for tech suggests that,among the actual tech related arcticles the model was able to identify only 46%.\n",
    "- Among the actual politics related articles the model was able to identify only 60% correctly.\n",
    "- The model is not able to perform well on business,tech and politics categories."
   ]
  },
  {
   "cell_type": "markdown",
   "metadata": {},
   "source": [
    "### Advanced Feature Engineering"
   ]
  },
  {
   "cell_type": "markdown",
   "metadata": {},
   "source": [
    "- As the title itself contains a lot of information in it,giving more weightage to words in title."
   ]
  },
  {
   "cell_type": "markdown",
   "metadata": {},
   "source": [
    "#### Adding more weightage to title"
   ]
  },
  {
   "cell_type": "code",
   "execution_count": 61,
   "metadata": {
    "ExecuteTime": {
     "end_time": "2020-05-15T15:47:40.502910Z",
     "start_time": "2020-05-15T15:47:40.389829Z"
    }
   },
   "outputs": [],
   "source": [
    "xtrain['new_title']=xtrain['title'].apply(lambda x:x*3)\n",
    "eval_data['new_title']=eval_data['title'].apply(lambda x:x*3)"
   ]
  },
  {
   "cell_type": "markdown",
   "metadata": {},
   "source": [
    "### Random Forest_Evaluation Data with weighted title"
   ]
  },
  {
   "cell_type": "markdown",
   "metadata": {},
   "source": [
    "#### vectorization"
   ]
  },
  {
   "cell_type": "markdown",
   "metadata": {},
   "source": [
    "##### title"
   ]
  },
  {
   "cell_type": "code",
   "execution_count": 62,
   "metadata": {
    "ExecuteTime": {
     "end_time": "2020-05-15T15:47:40.910199Z",
     "start_time": "2020-05-15T15:47:40.505911Z"
    }
   },
   "outputs": [
    {
     "name": "stdout",
     "output_type": "stream",
     "text": [
      "Data after vectorization\n",
      "Train data-:(1557, 724)\n",
      "Test data-:(123, 724)\n"
     ]
    }
   ],
   "source": [
    "tf=TfidfVectorizer(ngram_range=(1,2),min_df=3)\n",
    "tf.fit(xtrain['new_title'].values)\n",
    "newtitle_trtf=tf.transform(xtrain['new_title'].values)\n",
    "newtitle_evaltf=tf.transform(eval_data['new_title'].values)\n",
    "print(\"Data after vectorization\")\n",
    "print(f\"Train data-:{newtitle_trtf.shape}\")\n",
    "print(f\"Test data-:{newtitle_evaltf.shape}\")"
   ]
  },
  {
   "cell_type": "markdown",
   "metadata": {},
   "source": [
    "#### Data Model"
   ]
  },
  {
   "cell_type": "code",
   "execution_count": 63,
   "metadata": {
    "ExecuteTime": {
     "end_time": "2020-05-15T15:47:40.975245Z",
     "start_time": "2020-05-15T15:47:40.913200Z"
    }
   },
   "outputs": [
    {
     "name": "stdout",
     "output_type": "stream",
     "text": [
      "Data\n",
      "Train data features-:(1557, 12083),Train data target-:(1557,)\n",
      "Evaluation data features-:(123, 12083),Evaluation data target-:(123,)\n"
     ]
    }
   ],
   "source": [
    "train_1=hstack((newtitle_trtf,content_trtf)).tocsr()\n",
    "evaluation_1=hstack((newtitle_evaltf,content_evaltf)).tocsr()\n",
    "print(\"Data\")\n",
    "print(f\"Train data features-:{train_1.shape},Train data target-:{ytrain.shape}\")\n",
    "print(f\"Evaluation data features-:{evaluation_1.shape},Evaluation data target-:{yeval.shape}\")"
   ]
  },
  {
   "cell_type": "code",
   "execution_count": 64,
   "metadata": {
    "ExecuteTime": {
     "end_time": "2020-05-15T15:47:47.280725Z",
     "start_time": "2020-05-15T15:47:40.982250Z"
    }
   },
   "outputs": [
    {
     "name": "stdout",
     "output_type": "stream",
     "text": [
      "business:0,entertainment:1,politics:2,sport:3,tech:4\n",
      "-------------------------------------------------------------------------\n",
      "Train report\n",
      "              precision    recall  f1-score   support\n",
      "\n",
      "           0       1.00      1.00      1.00       357\n",
      "           1       1.00      1.00      1.00       270\n",
      "           2       1.00      1.00      1.00       292\n",
      "           3       1.00      1.00      1.00       357\n",
      "           4       1.00      1.00      1.00       281\n",
      "\n",
      "    accuracy                           1.00      1557\n",
      "   macro avg       1.00      1.00      1.00      1557\n",
      "weighted avg       1.00      1.00      1.00      1557\n",
      "\n",
      "-------------------------------------------------------------------------\n",
      "Test report\n",
      "              precision    recall  f1-score   support\n",
      "\n",
      "           0       0.60      0.84      0.70        25\n",
      "           1       0.82      0.96      0.88        24\n",
      "           2       1.00      0.56      0.72        25\n",
      "           3       0.82      0.92      0.87        25\n",
      "           4       0.78      0.58      0.67        24\n",
      "\n",
      "    accuracy                           0.77       123\n",
      "   macro avg       0.80      0.77      0.77       123\n",
      "weighted avg       0.80      0.77      0.77       123\n",
      "\n"
     ]
    }
   ],
   "source": [
    "from sklearn.ensemble import RandomForestClassifier\n",
    "rf=RandomForestClassifier()\n",
    "ovr_rf=OneVsRestClassifier(rf)\n",
    "ovr_rf.fit(train_1,ytrain)\n",
    "ytrain_pred=ovr_rf.predict(train_1)\n",
    "yeval_pred=ovr_rf.predict(evaluation_1)\n",
    "print('business:0,entertainment:1,politics:2,sport:3,tech:4')\n",
    "print('-------------------------------------------------------------------------')\n",
    "print('Train report')\n",
    "print(classification_report(ytrain,ytrain_pred))\n",
    "print(\"-------------------------------------------------------------------------\")\n",
    "print('Test report')\n",
    "print(classification_report(yeval,yeval_pred))"
   ]
  },
  {
   "cell_type": "markdown",
   "metadata": {},
   "source": [
    "**Observations:**"
   ]
  },
  {
   "cell_type": "markdown",
   "metadata": {},
   "source": [
    "- High accuraccy of 100% for train and low accuraccy of 77% for evaluation data suggests that the model is overfitted one.\n",
    "- The model fails to identify articles related to business,tech and politics."
   ]
  },
  {
   "cell_type": "markdown",
   "metadata": {},
   "source": [
    "### Select k best features "
   ]
  },
  {
   "cell_type": "markdown",
   "metadata": {},
   "source": [
    "- Selecting best 6000 features based on chi2 values."
   ]
  },
  {
   "cell_type": "markdown",
   "metadata": {},
   "source": [
    "#### Selecting  best 6000 features"
   ]
  },
  {
   "cell_type": "code",
   "execution_count": 65,
   "metadata": {
    "ExecuteTime": {
     "end_time": "2020-05-15T15:47:47.901167Z",
     "start_time": "2020-05-15T15:47:47.285729Z"
    }
   },
   "outputs": [
    {
     "name": "stdout",
     "output_type": "stream",
     "text": [
      "(1557, 6000)\n",
      "(123, 6000)\n"
     ]
    }
   ],
   "source": [
    "from sklearn.feature_selection import SelectKBest, chi2\n",
    "kbest=SelectKBest(chi2, k=6000)\n",
    "kbest.fit(train_1, ytrain)\n",
    "train_new=kbest.transform(train_1)\n",
    "evaluation_new=kbest.transform(evaluation_1)\n",
    "print(train_new.shape)\n",
    "print(evaluation_new.shape)"
   ]
  },
  {
   "cell_type": "markdown",
   "metadata": {},
   "source": [
    "#### Random forest+select k best+base model"
   ]
  },
  {
   "cell_type": "code",
   "execution_count": 66,
   "metadata": {
    "ExecuteTime": {
     "end_time": "2020-05-15T15:47:53.070838Z",
     "start_time": "2020-05-15T15:47:47.903167Z"
    }
   },
   "outputs": [
    {
     "name": "stdout",
     "output_type": "stream",
     "text": [
      "business:0,entertainment:1,politics:2,sport:3,tech:4\n",
      "-------------------------------------------------------------------------\n",
      "Train report\n",
      "              precision    recall  f1-score   support\n",
      "\n",
      "           0       1.00      1.00      1.00       357\n",
      "           1       1.00      1.00      1.00       270\n",
      "           2       1.00      1.00      1.00       292\n",
      "           3       1.00      1.00      1.00       357\n",
      "           4       1.00      1.00      1.00       281\n",
      "\n",
      "    accuracy                           1.00      1557\n",
      "   macro avg       1.00      1.00      1.00      1557\n",
      "weighted avg       1.00      1.00      1.00      1557\n",
      "\n",
      "-------------------------------------------------------------------------\n",
      "Test report\n",
      "              precision    recall  f1-score   support\n",
      "\n",
      "           0       0.62      0.80      0.70        25\n",
      "           1       0.81      0.92      0.86        24\n",
      "           2       1.00      0.68      0.81        25\n",
      "           3       0.79      0.92      0.85        25\n",
      "           4       0.78      0.58      0.67        24\n",
      "\n",
      "    accuracy                           0.78       123\n",
      "   macro avg       0.80      0.78      0.78       123\n",
      "weighted avg       0.80      0.78      0.78       123\n",
      "\n"
     ]
    }
   ],
   "source": [
    "rf=RandomForestClassifier()\n",
    "ovr_rf=OneVsRestClassifier(rf)\n",
    "ovr_rf.fit(train_new,ytrain)\n",
    "ytrain_pred=ovr_rf.predict(train_new)\n",
    "yeval_pred=ovr_rf.predict(evaluation_new)\n",
    "print('business:0,entertainment:1,politics:2,sport:3,tech:4')\n",
    "print('-------------------------------------------------------------------------')\n",
    "print('Train report')\n",
    "print(classification_report(ytrain,ytrain_pred))\n",
    "print(\"-------------------------------------------------------------------------\")\n",
    "print('Test report')\n",
    "print(classification_report(yeval,yeval_pred))"
   ]
  },
  {
   "cell_type": "markdown",
   "metadata": {},
   "source": [
    "#### Logistic Regression+select k best+base model"
   ]
  },
  {
   "cell_type": "code",
   "execution_count": 67,
   "metadata": {
    "ExecuteTime": {
     "end_time": "2020-05-15T15:47:53.600213Z",
     "start_time": "2020-05-15T15:47:53.075842Z"
    }
   },
   "outputs": [
    {
     "name": "stdout",
     "output_type": "stream",
     "text": [
      "business:0,entertainment:1,politics:2,sport:3,tech:4\n",
      "-------------------------------------------------------------------------\n",
      "Train report\n",
      "              precision    recall  f1-score   support\n",
      "\n",
      "           0       1.00      0.99      0.99       357\n",
      "           1       1.00      0.99      0.99       270\n",
      "           2       0.99      1.00      0.99       292\n",
      "           3       1.00      1.00      1.00       357\n",
      "           4       1.00      0.99      0.99       281\n",
      "\n",
      "    accuracy                           0.99      1557\n",
      "   macro avg       0.99      0.99      0.99      1557\n",
      "weighted avg       0.99      0.99      0.99      1557\n",
      "\n",
      "-------------------------------------------------------------------------\n",
      "Test report\n",
      "              precision    recall  f1-score   support\n",
      "\n",
      "           0       0.62      0.80      0.70        25\n",
      "           1       0.81      0.92      0.86        24\n",
      "           2       1.00      0.68      0.81        25\n",
      "           3       0.79      0.92      0.85        25\n",
      "           4       0.78      0.58      0.67        24\n",
      "\n",
      "    accuracy                           0.78       123\n",
      "   macro avg       0.80      0.78      0.78       123\n",
      "weighted avg       0.80      0.78      0.78       123\n",
      "\n"
     ]
    }
   ],
   "source": [
    "lgr=LogisticRegression()\n",
    "ovr=OneVsRestClassifier(lgr)\n",
    "ovr.fit(train_new,ytrain)\n",
    "ytrain_pred=ovr.predict(train_new)\n",
    "ytest_pred=ovr.predict(evaluation_new)\n",
    "print('business:0,entertainment:1,politics:2,sport:3,tech:4')\n",
    "print('-------------------------------------------------------------------------')\n",
    "print('Train report')\n",
    "print(classification_report(ytrain,ytrain_pred))\n",
    "print(\"-------------------------------------------------------------------------\")\n",
    "print('Test report')\n",
    "print(classification_report(yeval,yeval_pred))"
   ]
  },
  {
   "cell_type": "markdown",
   "metadata": {},
   "source": [
    "#### SVM+select k best+base model"
   ]
  },
  {
   "cell_type": "code",
   "execution_count": 68,
   "metadata": {
    "ExecuteTime": {
     "end_time": "2020-05-15T15:47:53.863400Z",
     "start_time": "2020-05-15T15:47:53.612222Z"
    }
   },
   "outputs": [
    {
     "name": "stdout",
     "output_type": "stream",
     "text": [
      "business:0,entertainment:1,politics:2,sport:3,tech:4\n",
      "-------------------------------------------------------------------------\n",
      "Train report\n",
      "              precision    recall  f1-score   support\n",
      "\n",
      "           0       1.00      1.00      1.00       357\n",
      "           1       1.00      1.00      1.00       270\n",
      "           2       1.00      1.00      1.00       292\n",
      "           3       1.00      1.00      1.00       357\n",
      "           4       1.00      1.00      1.00       281\n",
      "\n",
      "    accuracy                           1.00      1557\n",
      "   macro avg       1.00      1.00      1.00      1557\n",
      "weighted avg       1.00      1.00      1.00      1557\n",
      "\n",
      "-------------------------------------------------------------------------\n",
      "Test report\n",
      "              precision    recall  f1-score   support\n",
      "\n",
      "           0       0.62      0.80      0.70        25\n",
      "           1       0.81      0.92      0.86        24\n",
      "           2       1.00      0.68      0.81        25\n",
      "           3       0.79      0.92      0.85        25\n",
      "           4       0.78      0.58      0.67        24\n",
      "\n",
      "    accuracy                           0.78       123\n",
      "   macro avg       0.80      0.78      0.78       123\n",
      "weighted avg       0.80      0.78      0.78       123\n",
      "\n"
     ]
    }
   ],
   "source": [
    "sm=LinearSVC(loss='squared_hinge')\n",
    "ovr_svm=OneVsRestClassifier(sm)\n",
    "ovr_svm.fit(train_new,ytrain)\n",
    "ytrain_pred=ovr_svm.predict(train_new)\n",
    "ytest_pred=ovr_svm.predict(evaluation_new)\n",
    "print('business:0,entertainment:1,politics:2,sport:3,tech:4')\n",
    "print('-------------------------------------------------------------------------')\n",
    "print('Train report')\n",
    "print(classification_report(ytrain,ytrain_pred))\n",
    "print(\"-------------------------------------------------------------------------\")\n",
    "print('Test report')\n",
    "print(classification_report(yeval,yeval_pred))"
   ]
  },
  {
   "cell_type": "markdown",
   "metadata": {
    "ExecuteTime": {
     "end_time": "2020-05-19T12:02:16.563900Z",
     "start_time": "2020-05-19T12:02:16.554892Z"
    }
   },
   "source": [
    "- After selecting best 6000 features,performance of model on tech articles is improved.\n",
    "- The F1_score for tceh articles are improved from 2% 82%,while maintainig precision of 100%.\n",
    "- Still the performance on political articles are low with 67%.\n",
    "- The overall performance of model is improved from f1score of 76% for evaluation data to 78%.\n",
    "- Logistic Regression with best 6000 features is selected as the best model."
   ]
  },
  {
   "cell_type": "markdown",
   "metadata": {},
   "source": [
    "## Summary & Conclusion"
   ]
  },
  {
   "cell_type": "markdown",
   "metadata": {},
   "source": [
    "- We created train and validation data with articles from bbc.\n",
    "- Extracted title from articles and added as a new feature.\n",
    "- Treated the text features for htmls,urls,contracted words,stop words etc.\n",
    "- Tested the model performance on train and validation data.\n",
    "- Its been identified that the model is performing well on both train and validation data with accuraccy & F1_score of 100% on train \n",
    "  and 97%on test.\n",
    "- Upon further analysis,its been understood that the high performance is due to facts that,\n",
    "    - There are very few data points available.Which makes our model to overfit on data.This cause high accuraccy on train data.\n",
    "    - both the train and validation set article belongs to bbc.Hence,the language structure of the articles may be the same.Which cause train and test data to be in similar to nature.And hence,high accuraccy on test data too.\n",
    "- For forther evaluation,we webscrapped inshorts.com ,collected the articles from 5differrent categories and created an evaluation dataset.\n",
    "- On evaluation dataset,model is giving high F1_Score of 100% on train and 76% on evaluation data.Which suggestec the model is overfitting.\n",
    "- The model as not able to perform well with articles related to business and tech.\n",
    "- To tackle overfittingwe gave more weightage to tile.Because,title itself contains lot of information.\n",
    "- Selected best 6000 features using chi2 metric.\n",
    "- On selected 6000 features,the model performance improved,eventhough that is not a substantial improvement.\n",
    "- The model performace improved from 76% to 78% f1_score.\n",
    "- The models ability to identify tech articles improved.\n",
    "- The model performnce can be improved by increasing training records/samples.\n",
    "- Training the model with articles from differrent sources can increase its ability to generalize on unseen data.\n",
    "- Selecting best 6000 features can reduce the impact of overfitting.\n",
    "- We perfomed model validation and evaluation with logistic regression,SVM and Random forest and OneVsRest approach.\n",
    " All three algorithms provided similar results.\n",
    "- Logistic Regression with best 6000 features are selected for creating Document classifiaction application.\n",
    "- Tkinter is selected to develop the front end."
   ]
  }
 ],
 "metadata": {
  "hide_input": false,
  "kernelspec": {
   "display_name": "Python 3",
   "language": "python",
   "name": "python3"
  },
  "language_info": {
   "codemirror_mode": {
    "name": "ipython",
    "version": 3
   },
   "file_extension": ".py",
   "mimetype": "text/x-python",
   "name": "python",
   "nbconvert_exporter": "python",
   "pygments_lexer": "ipython3",
   "version": "3.7.3"
  },
  "toc": {
   "base_numbering": 1,
   "nav_menu": {},
   "number_sections": true,
   "sideBar": true,
   "skip_h1_title": false,
   "title_cell": "Table of Contents",
   "title_sidebar": "Contents",
   "toc_cell": false,
   "toc_position": {
    "height": "calc(100% - 180px)",
    "left": "10px",
    "top": "150px",
    "width": "247.552px"
   },
   "toc_section_display": true,
   "toc_window_display": true
  }
 },
 "nbformat": 4,
 "nbformat_minor": 2
}
